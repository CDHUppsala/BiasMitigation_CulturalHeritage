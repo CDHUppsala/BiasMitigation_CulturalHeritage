{
 "cells": [
  {
   "cell_type": "code",
   "execution_count": 11,
   "id": "bcb70738",
   "metadata": {},
   "outputs": [
    {
     "name": "stdout",
     "output_type": "stream",
     "text": [
      "(0.7, 0.4)\n",
      "(0.4, 0.2)\n",
      "(0.29999999999999993, 0.2)\n",
      "0.6\n",
      "0.3\n",
      "0.3\n",
      "0.7777777777777778\n",
      "0.6666666666666666\n",
      "0.11111111111111116\n"
     ]
    }
   ],
   "source": [
    "# Example and metrics from paper: \n",
    "# FAIRNESS METRICS : A COMPARATIVE ANALYSIS\n",
    "# https://arxiv.org/abs/2001.07864\n",
    "\n",
    "from outcomes import Outcomes\n",
    "from fairnessMetrics import FairnessMetrics \n",
    "\n",
    "outcomes1 = Outcomes(28,12,12,8)\n",
    "outcomes2 = Outcomes(8,16,12,4)\n",
    "\n",
    "print(FairnessMetrics.equalizedOdds(outcomes1))\n",
    "print(FairnessMetrics.equalizedOdds(outcomes2))\n",
    "print(FairnessMetrics.equalizedOddsDiff(outcomes1, outcomes2))\n",
    "\n",
    "print(FairnessMetrics.statisticalParity(outcomes1))\n",
    "print(FairnessMetrics.statisticalParity(outcomes2))\n",
    "print(FairnessMetrics.statisticalParityDiff(outcomes1, outcomes2))\n",
    "\n",
    "print(FairnessMetrics.predictiveParity(outcomes1))\n",
    "print(FairnessMetrics.predictiveParity(outcomes2))\n",
    "print(FairnessMetrics.predictiveParityDiff(outcomes1, outcomes2))"
   ]
  }
 ],
 "metadata": {
  "kernelspec": {
   "display_name": "Python 3 (ipykernel)",
   "language": "python",
   "name": "python3"
  },
  "language_info": {
   "codemirror_mode": {
    "name": "ipython",
    "version": 3
   },
   "file_extension": ".py",
   "mimetype": "text/x-python",
   "name": "python",
   "nbconvert_exporter": "python",
   "pygments_lexer": "ipython3",
   "version": "3.10.6"
  }
 },
 "nbformat": 4,
 "nbformat_minor": 5
}

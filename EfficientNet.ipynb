{
 "cells": [
  {
   "cell_type": "markdown",
   "id": "3f9df38c-7fe2-4be1-a740-15d167ff45c4",
   "metadata": {},
   "source": [
    "# Notebook for running EfficientNet experiments\n",
    "Contributions: Christoph Nötzli, Erik Norén and Sushruth Badri <br>\n",
    "Comments: Erik Norén 14/12-22"
   ]
  },
  {
   "cell_type": "markdown",
   "id": "cd793aef",
   "metadata": {},
   "source": [
    "# Testing EfficientNet"
   ]
  },
  {
   "cell_type": "code",
   "execution_count": null,
   "id": "257ba0bd",
   "metadata": {},
   "outputs": [],
   "source": [
    "# imports\n",
    "import tensorflow as tf\n",
    "import data.imageReading as ir\n",
    "from fairness import fairnessMetrics as fm\n",
    "from model import model as m\n",
    "from model import utils as utils\n",
    "from model import biasMitigation as mit\n",
    "from model import evaluation as ev\n",
    "from tuning import callbacks as cb\n",
    "import datetime\n",
    "import os\n",
    "import numpy as np"
   ]
  },
  {
   "cell_type": "code",
   "execution_count": null,
   "id": "3cdc70f7",
   "metadata": {},
   "outputs": [],
   "source": [
    "# image size selected according to EfficientNetB3 input size\n",
    "image_size = (300,300)\n",
    "batch_size = 128\n",
    "\n",
    "# Load datasets from current _split folders\n",
    "(ds_train, train_batches, ds_val, val_batches, ds_test, test_batches, count_classes) = ir.readData(\"/mimer/NOBACKUP/groups/snic2022-22-1091/museumFaces_split\", image_size, batch_size, None, False, False)\n",
    "(ffds_train, fftrain_batches, ffds_val, ffval_batches, ffds_test, fftest_batches, ffcount_classes) = ir.readData(\"/mimer/NOBACKUP/groups/snic2022-22-1091/FairFace_split\", image_size, batch_size, None, False, False)\n"
   ]
  },
  {
   "cell_type": "markdown",
   "id": "3c1f51d0",
   "metadata": {},
   "source": [
    "## Find learning rate"
   ]
  },
  {
   "cell_type": "code",
   "execution_count": null,
   "id": "3fe267cc",
   "metadata": {},
   "outputs": [],
   "source": [
    "class_weight = mit.findClassWeights(train_batches)\n",
    "\n",
    "strategy = tf.distribute.MirroredStrategy()\n",
    "\n",
    "with strategy.scope():\n",
    "    model = m.build_model(False, (300,300), \"Efficient\")\n",
    "    metric_list = m.metrics_list()\n",
    "\n",
    "model.compile(optimizer=tf.keras.optimizers.Adam(), \n",
    "                           loss=\"binary_crossentropy\", \n",
    "                           metrics=\"accuracy\")"
   ]
  },
  {
   "cell_type": "code",
   "execution_count": null,
   "id": "b300d1da",
   "metadata": {},
   "outputs": [],
   "source": [
    "epochs = 200\n",
    "train_input = []\n",
    "train_output = []\n",
    "nr_batches = 10\n",
    "\n",
    "model.fit(ds_train, steps_per_epoch=nr_batches, callbacks=[cb.LerningRateCallback(100, nr_batches)], epochs=epochs, verbose=2)"
   ]
  },
  {
   "cell_type": "markdown",
   "id": "e80997c9-94db-402b-8999-9a389a07eb5d",
   "metadata": {},
   "source": [
    "# Museum baseline"
   ]
  },
  {
   "cell_type": "markdown",
   "id": "3c4dc718-70c5-414a-959e-68852934bc64",
   "metadata": {},
   "source": [
    "## Test EfficientNet Museum\n",
    "Train and test EfficientNet model using Museum data set, with no pre- or in-processing bias mitigation methods applied"
   ]
  },
  {
   "cell_type": "code",
   "execution_count": null,
   "id": "3ccebf65-3d06-47ac-b916-bf2bddbadcea",
   "metadata": {
    "tags": []
   },
   "outputs": [],
   "source": [
    "epochs = 20\n",
    "class_weight = mit.findClassWeights(train_batches)\n",
    "\n",
    "strategy = tf.distribute.MirroredStrategy()\n",
    "\n",
    "with strategy.scope():\n",
    "    # build model without augmentation\n",
    "    model = m.build_model(False, (300,300), \"Efficient\")\n",
    "    metric_list = m.metrics_list()\n",
    "    lr_schedule = tf.keras.optimizers.schedules.ExponentialDecay(\n",
    "        1e-4,\n",
    "        decay_steps=100000,\n",
    "        decay_rate=0.96,\n",
    "    )\n",
    "\n",
    "\n",
    "model.compile(optimizer=tf.keras.optimizers.Adam(lr_schedule), \n",
    "                           loss=\"binary_crossentropy\", \n",
    "                           metrics=metric_list)\n",
    "\n",
    "# Train model without class weights\n",
    "utils.train_model(model, epochs, ds_train, train_batches, ds_val, val_batches, class_weight=None, weight=False)\n",
    "\n",
    "print(\"Make folder...\")\n",
    "dir_name = datetime.datetime.now().strftime(\"%Y%m%d_%H%M%S\") + \"_EfficientNet_Museum\"\n",
    "os.mkdir(dir_name)\n",
    "\n",
    "utils.saveModel(model, dir_name + \"/EfficientNet_Museum.h5\")"
   ]
  },
  {
   "cell_type": "code",
   "execution_count": null,
   "id": "d714561a-56e9-4774-b7ad-686f9487534c",
   "metadata": {},
   "outputs": [],
   "source": [
    "# Test the model\n",
    "test_predict, test_labels, dir_name = ev.testModel(model, ds_test, test_batches, dir_name)\n",
    "ev.testModelWithThresholdChange(model, ds_val, val_batches, test_predict, test_labels, dir_name)"
   ]
  },
  {
   "cell_type": "code",
   "execution_count": null,
   "id": "3280a7ce-0631-4d3e-8f5c-0c262b913877",
   "metadata": {},
   "outputs": [],
   "source": [
    "strategy = tf.distribute.MirroredStrategy()\n",
    "\n",
    "with strategy.scope():\n",
    "    # Build model without augmentation\n",
    "    model = m.build_model(False, (300,300), \"Efficient\")\n",
    "    metric_list = m.metrics_list()\n",
    "    lr_schedule = tf.keras.optimizers.schedules.ExponentialDecay(\n",
    "        1e-4,\n",
    "        decay_steps=100000,\n",
    "        decay_rate=0.96,\n",
    "    )\n",
    "\n",
    "# Crossvalidate model using entire Museum data set\n",
    "history = ev.kfoldCrossValidation('/mimer/NOBACKUP/groups/snic2022-22-1091/museumFaces/Female/*.*', \n",
    "                      '/mimer/NOBACKUP/groups/snic2022-22-1091/museumFaces/Male/*.*',\n",
    "                      model, metric_list, lr_schedule, (300,300), None, 5, 20)\n",
    "\n",
    "print(\"Make folder...\")\n",
    "dir_name = datetime.datetime.now().strftime(\"%Y%m%d_%H%M%S\") + \"_kFoldCrossValidation_Museum_effnet_baseline\"\n",
    "os.mkdir(dir_name)\n",
    "\n",
    "# Evaluate the results of the crossvalidation\n",
    "ev.evaluateCrossValidation(dir_name, history)"
   ]
  },
  {
   "cell_type": "markdown",
   "id": "8a3cd7f2-9da4-4e40-b4e2-3d6031ec684d",
   "metadata": {},
   "source": [
    "## Test EfficientNet Museum (weighted) \n",
    "Train and test EfficientNet model using Museum data set, with bias mitigation method reweighting applied"
   ]
  },
  {
   "cell_type": "code",
   "execution_count": null,
   "id": "c24c9550-9309-4c3f-a477-b3bdbdf28b9c",
   "metadata": {},
   "outputs": [],
   "source": [
    "epochs = 20\n",
    "class_weight = mit.findClassWeights(train_batches)\n",
    "\n",
    "strategy = tf.distribute.MirroredStrategy()\n",
    "\n",
    "with strategy.scope():\n",
    "    # Build model without augmentation\n",
    "    model = m.build_model(False, (300,300), \"Efficient\")\n",
    "    metric_list = m.metrics_list()\n",
    "    lr_schedule = tf.keras.optimizers.schedules.ExponentialDecay(\n",
    "        1e-4,\n",
    "        decay_steps=100000,\n",
    "        decay_rate=0.96,\n",
    "    )\n",
    "\n",
    "\n",
    "model.compile(optimizer=tf.keras.optimizers.Adam(lr_schedule), \n",
    "                           loss=\"binary_crossentropy\", \n",
    "                           metrics=metric_list)\n",
    "\n",
    "\n",
    "# Train model with class weights\n",
    "utils.train_model(model, epochs, ds_train, train_batches, ds_val, val_batches, class_weight)\n",
    "\n",
    "print(\"Make folder...\")\n",
    "dir_name = datetime.datetime.now().strftime(\"%Y%m%d_%H%M%S\") + \"_EfficientNet_Museum_re\"\n",
    "os.mkdir(dir_name)\n",
    "\n",
    "utils.saveModel(model, dir_name + \"/EfficientNet_Musuem_re.h5\")"
   ]
  },
  {
   "cell_type": "code",
   "execution_count": null,
   "id": "15990351-8795-4a06-be62-3f62d9ceee42",
   "metadata": {},
   "outputs": [],
   "source": [
    "# Test the model\n",
    "test_predict, test_labels, dir_name = ev.testModel(model, ds_test, test_batches, dir_name)\n",
    "ev.testModelWithThresholdChange(model, ds_val, val_batches, test_predict, test_labels, dir_name)"
   ]
  },
  {
   "cell_type": "code",
   "execution_count": null,
   "id": "c6263bb8-350e-4611-be29-83c4cfab06f2",
   "metadata": {},
   "outputs": [],
   "source": [
    "strategy = tf.distribute.MirroredStrategy()\n",
    "\n",
    "\n",
    "with strategy.scope():\n",
    "    # Build model without augmentation\n",
    "    model = m.build_model(False, (300,300), \"Efficient\")\n",
    "    metric_list = m.metrics_list()\n",
    "    lr_schedule = tf.keras.optimizers.schedules.ExponentialDecay(\n",
    "        1e-4,\n",
    "        decay_steps=100000,\n",
    "        decay_rate=0.96,\n",
    "    )\n",
    "\n",
    "# Crossvalidate model using entire Museum data set\n",
    "history = ev.kfoldCrossValidation('/mimer/NOBACKUP/groups/snic2022-22-1091/museumFaces/Female/*.*', \n",
    "                      '/mimer/NOBACKUP/groups/snic2022-22-1091/museumFaces/Male/*.*',\n",
    "                      model, metric_list, lr_schedule, (300,300), class_weight, 5, 20)\n",
    "\n",
    "print(\"Make folder...\")\n",
    "dir_name = datetime.datetime.now().strftime(\"%Y%m%d_%H%M%S\") + \"_kFoldCrossValidation_Museum_re_effnet\"\n",
    "os.mkdir(dir_name)\n",
    "\n",
    "# Evaluate the results of the crossvalidation\n",
    "ev.evaluateCrossValidation(dir_name, history)"
   ]
  },
  {
   "cell_type": "markdown",
   "id": "12522c88-52c9-4df1-86e7-1844cada3b1a",
   "metadata": {},
   "source": [
    "## Test EfficientNet Museum augmented (unweighted) \n",
    "Train and test EfficientNet model using Museum data set, with bias mitigation method data set augmentation applied"
   ]
  },
  {
   "cell_type": "code",
   "execution_count": null,
   "id": "d26ce029-eefa-443c-b589-5ee06318a5f9",
   "metadata": {},
   "outputs": [],
   "source": [
    "epochs = 20\n",
    "class_weight = mit.findClassWeights(train_batches)\n",
    "\n",
    "strategy = tf.distribute.MirroredStrategy()\n",
    "\n",
    "with strategy.scope():\n",
    "    # Build model with augmentation layers\n",
    "    model = m.build_model(True, (300,300), \"Efficient\")\n",
    "    metric_list = m.metrics_list()\n",
    "    lr_schedule = tf.keras.optimizers.schedules.ExponentialDecay(\n",
    "        1e-4,\n",
    "        decay_steps=100000,\n",
    "        decay_rate=0.96,\n",
    "    )\n",
    "\n",
    "\n",
    "model.compile(optimizer=tf.keras.optimizers.Adam(lr_schedule), \n",
    "                           loss=\"binary_crossentropy\", \n",
    "                           metrics=metric_list)\n",
    "\n",
    "# Train model without class weights\n",
    "utils.train_model(model, epochs, ds_train, train_batches, ds_val, val_batches, None, False)\n",
    "\n",
    "print(\"Make folder...\")\n",
    "dir_name = datetime.datetime.now().strftime(\"%Y%m%d_%H%M%S\") + \"_EfficientNet_Museum_aug\"\n",
    "os.mkdir(dir_name)\n",
    "\n",
    "utils.saveModel(model, dir_name + \"/EfficientNet_Mueseum_aug.h5\")"
   ]
  },
  {
   "cell_type": "code",
   "execution_count": null,
   "id": "f94397f8-c473-4450-8ac8-038b78f00ce9",
   "metadata": {},
   "outputs": [],
   "source": [
    "# Test the model\n",
    "test_predict, test_labels, dir_name = ev.testModel(model, ds_test, test_batches, dir_name)\n",
    "ev.testModelWithThresholdChange(model, ds_val, val_batches, test_predict, test_labels, dir_name)"
   ]
  },
  {
   "cell_type": "code",
   "execution_count": null,
   "id": "face8bce-8c20-46dc-8fe5-fe7cde4174b1",
   "metadata": {},
   "outputs": [],
   "source": [
    "strategy = tf.distribute.MirroredStrategy()\n",
    "\n",
    "with strategy.scope():\n",
    "    # Build model with augmentation layers\n",
    "    model = m.build_model(True, (300,300), \"Efficient\")\n",
    "    metric_list = m.metrics_list()\n",
    "    lr_schedule = tf.keras.optimizers.schedules.ExponentialDecay(\n",
    "        1e-4,\n",
    "        decay_steps=100000,\n",
    "        decay_rate=0.96,\n",
    "    )\n",
    "\n",
    "# Crossvalidate model using entire Museum data set\n",
    "history = ev.kfoldCrossValidation('/mimer/NOBACKUP/groups/snic2022-22-1091/museumFaces/Female/*.*', \n",
    "                      '/mimer/NOBACKUP/groups/snic2022-22-1091/museumFaces/Male/*.*',\n",
    "                      model, metric_list, lr_schedule, (300,300), None, 5, 20)\n",
    "\n",
    "print(\"Make folder...\")\n",
    "dir_name = datetime.datetime.now().strftime(\"%Y%m%d_%H%M%S\") + \"_kFoldCrossValidation_Museum_aug_effnet\"\n",
    "os.mkdir(dir_name)\n",
    "\n",
    "# Evaluate the results of the crossvalidation\n",
    "ev.evaluateCrossValidation(dir_name, history)"
   ]
  },
  {
   "cell_type": "markdown",
   "id": "d09f7e84",
   "metadata": {},
   "source": [
    "# FairFace\n",
    "For transfer learning EfficientNet model is trained on the FairFace data set in order to create a base model."
   ]
  },
  {
   "cell_type": "markdown",
   "id": "b4354921",
   "metadata": {},
   "source": [
    "## Test EfficientNet FairFace (unweighted) \n",
    "Train and test EfficientNet model using Museum data set, with no pre- or in-processing bias mitigation methods applied"
   ]
  },
  {
   "cell_type": "code",
   "execution_count": null,
   "id": "24c0d8ae",
   "metadata": {},
   "outputs": [],
   "source": [
    "epochs = 20\n",
    "class_weight = mit.findClassWeights(fftrain_batches)\n",
    "\n",
    "strategy = tf.distribute.MirroredStrategy()\n",
    "\n",
    "with strategy.scope():\n",
    "    # Build model without augmentation layers\n",
    "    model = m.build_model(False, (300,300), \"Efficient\")\n",
    "    metric_list = m.metrics_list()\n",
    "    lr_schedule = tf.keras.optimizers.schedules.ExponentialDecay(\n",
    "        1e-4,\n",
    "        decay_steps=100000,\n",
    "        decay_rate=0.96,\n",
    "    )\n",
    "\n",
    "\n",
    "model.compile(optimizer=tf.keras.optimizers.Adam(lr_schedule), \n",
    "                           loss=\"binary_crossentropy\", \n",
    "                           metrics=metric_list)\n",
    "\n",
    "# Train model without class weights\n",
    "utils.train_model(model, epochs, ffds_train, fftrain_batches, ffds_val, ffval_batches, None, False)\n",
    "\n",
    "print(\"Make folder...\")\n",
    "dir_name = datetime.datetime.now().strftime(\"%Y%m%d_%H%M%S\") + \"_EfficientNet_FairFace\"\n",
    "os.mkdir(dir_name)\n",
    "\n",
    "utils.saveModel(model, dir_name + \"/EfficientNet_FairFace.h5\")"
   ]
  },
  {
   "cell_type": "code",
   "execution_count": null,
   "id": "bcfc61dc",
   "metadata": {},
   "outputs": [],
   "source": [
    "# Test the model\n",
    "test_predict, test_labels, dir_name = ev.testModel(model, ffds_test, fftest_batches, dir_name)\n",
    "ev.testModelWithThresholdChange(model, ffds_val, ffval_batches, test_predict, test_labels, dir_name)"
   ]
  },
  {
   "cell_type": "markdown",
   "id": "6061d853",
   "metadata": {},
   "source": [
    "## Test EfficientNet FairFace (weighted) \n",
    "Train and test EfficientNet model using FairFace data set, with bias mitigation method reweighting applied"
   ]
  },
  {
   "cell_type": "code",
   "execution_count": null,
   "id": "c42755e8",
   "metadata": {},
   "outputs": [],
   "source": [
    "epochs = 20\n",
    "\n",
    "strategy = tf.distribute.MirroredStrategy()\n",
    "\n",
    "with strategy.scope():\n",
    "    # Build model without augmentation layers\n",
    "    model = m.build_model(False, (300,300), \"Efficient\")\n",
    "    metric_list = m.metrics_list()\n",
    "    lr_schedule = tf.keras.optimizers.schedules.ExponentialDecay(\n",
    "        1e-4,\n",
    "        decay_steps=100000,\n",
    "        decay_rate=0.96,\n",
    "    )\n",
    "\n",
    "\n",
    "model.compile(optimizer=tf.keras.optimizers.Adam(lr_schedule), \n",
    "                           loss=\"binary_crossentropy\", \n",
    "                           metrics=metric_list)\n",
    "\n",
    "# Train model with class weights\n",
    "utils.train_model(model, epochs, ffds_train, fftrain_batches, ffds_val, ffval_batches, class_weight)\n",
    "\n",
    "print(\"Make folder...\")\n",
    "dir_name = datetime.datetime.now().strftime(\"%Y%m%d_%H%M%S\") + \"_EfficientNet_FairFace_re\"\n",
    "os.mkdir(dir_name)\n",
    "\n",
    "utils.saveModel(model, dir_name + \"/EfficientNet_FairFace_re.h5\")"
   ]
  },
  {
   "cell_type": "code",
   "execution_count": null,
   "id": "8b0e77cf",
   "metadata": {},
   "outputs": [],
   "source": [
    "# Test the model\n",
    "test_predict, test_labels, dir_name = ev.testModel(model, ffds_test, fftest_batches, dir_name)\n",
    "ev.testModelWithThresholdChange(model, ffds_val, ffval_batches, test_predict, test_labels, dir_name)"
   ]
  },
  {
   "cell_type": "markdown",
   "id": "cd1989a0",
   "metadata": {},
   "source": [
    "## Test EfficientNet FairFace augmented (unweighted) \n",
    "Train and test EfficientNet model using FairFace data set, with bias mitigation method data set augmentation applied"
   ]
  },
  {
   "cell_type": "code",
   "execution_count": null,
   "id": "58bd6317",
   "metadata": {},
   "outputs": [],
   "source": [
    "epochs = 20\n",
    "class_weight = mit.findClassWeights(fftrain_batches)\n",
    "\n",
    "strategy = tf.distribute.MirroredStrategy()\n",
    "\n",
    "with strategy.scope():\n",
    "    # Build model with augmentation layers\n",
    "    model = m.build_model(True, (300,300), \"Efficient\")\n",
    "    metric_list = m.metrics_list()\n",
    "    lr_schedule = tf.keras.optimizers.schedules.ExponentialDecay(\n",
    "        1e-4,\n",
    "        decay_steps=100000,\n",
    "        decay_rate=0.96,\n",
    "    )\n",
    "\n",
    "\n",
    "model.compile(optimizer=tf.keras.optimizers.Adam(lr_schedule), \n",
    "                           loss=\"binary_crossentropy\", \n",
    "                           metrics=metric_list)\n",
    "\n",
    "# Train model without class weights\n",
    "utils.train_model(model, epochs, ffds_train, fftrain_batches, ffds_val, ffval_batches, None, False)\n",
    "\n",
    "print(\"Make folder...\")\n",
    "dir_name = datetime.datetime.now().strftime(\"%Y%m%d_%H%M%S\") + \"_EfficientNet_FairFace_aug\"\n",
    "os.mkdir(dir_name)\n",
    "\n",
    "utils.saveModel(model, dir_name + \"/EfficientNet_FairFace_aug.h5\")"
   ]
  },
  {
   "cell_type": "code",
   "execution_count": null,
   "id": "6047ab56",
   "metadata": {},
   "outputs": [],
   "source": [
    "# Test the model\n",
    "test_predict, test_labels, dir_name = ev.testModel(model, ffds_test, fftest_batches, dir_name)\n",
    "ev.testModelWithThresholdChange(model, ffds_val, ffval_batches, test_predict, test_labels, dir_name)"
   ]
  },
  {
   "cell_type": "markdown",
   "id": "69d3be2b",
   "metadata": {},
   "source": [
    "# Transfer Learning\n",
    "Here the experiments for performing transfer learning are performed. The base EfficientNet models trained on the FairFace data set are loaded. These models then have some of their layers frozen and is then trained again using the Museum data set."
   ]
  },
  {
   "cell_type": "markdown",
   "id": "bcbd0154",
   "metadata": {},
   "source": [
    "## Transfer learning without augmentation and reweighting\n",
    "Transfer learning with EfficientNet, with no pre- or in-processing bias mitigation methods applied. Trained and tested with Museum data set."
   ]
  },
  {
   "cell_type": "code",
   "execution_count": null,
   "id": "1d4865d5",
   "metadata": {},
   "outputs": [],
   "source": [
    "epochs = 20\n",
    "class_weight = mit.findClassWeights(train_batches)\n",
    "\n",
    "strategy = tf.distribute.MirroredStrategy()\n",
    "# Choose the directory where model EfficientNet_FairFace.h5 exists\n",
    "dir_name = \"XXX_XXX_EfficientNet_Fairface\"\n",
    "\n",
    "with strategy.scope():\n",
    "    # Choose the correct FairFace model\n",
    "    model = utils.loadModel(dir_name + \"/EfficientNet_FairFace.h5\", m.metrics_dict())\n",
    "    metric_list = m.metrics_list()\n",
    "    lr_schedule = tf.keras.optimizers.schedules.ExponentialDecay(\n",
    "        1e-4,\n",
    "        decay_steps=100000,\n",
    "        decay_rate=0.96,\n",
    "    )\n",
    "\n",
    "# Total number of layers: 338\n",
    "utils.freezeCertainLayers(model, 334)    \n",
    "    \n",
    "model.compile(optimizer=tf.keras.optimizers.Adam(learning_rate=lr_schedule), \n",
    "                           loss=\"binary_crossentropy\", \n",
    "                           metrics=metric_list)\n",
    "\n",
    "utils.train_model(model, epochs, ds_train, train_batches, ds_val, val_batches, None, False)\n",
    "\n",
    "print(\"Make folder...\")\n",
    "dir_name_transfer = datetime.datetime.now().strftime(\"%Y%m%d_%H%M%S\") + \"_EfficientNet_transfer\"\n",
    "os.mkdir(dir_name_transfer)\n",
    "\n",
    "print(\"Name directory: \" + dir_name)\n",
    "utils.saveModel(model, dir_name_transfer + \"/EfficientNet_transfer.h5\")"
   ]
  },
  {
   "cell_type": "code",
   "execution_count": null,
   "id": "04b42e5c",
   "metadata": {},
   "outputs": [],
   "source": [
    "test_predict, test_labels, dir_name = ev.testModel(model, ds_test, test_batches, dir_name)\n",
    "ev.testModelWithThresholdChange(model, ds_val, val_batches, test_predict, test_labels, dir_name)"
   ]
  },
  {
   "cell_type": "code",
   "execution_count": null,
   "id": "3f452200",
   "metadata": {},
   "outputs": [],
   "source": [
    "strategy = tf.distribute.MirroredStrategy()\n",
    "# Choose correct folder name\n",
    "dir_name = \"Test\"\n",
    "\n",
    "with strategy.scope():\n",
    "    # Choose the correct FairFace model\n",
    "    model = utils.loadModel(dir_name + \"/EfficientNet_FairFace.h5\", m.metrics_dict())\n",
    "    metric_list = m.metrics_list()\n",
    "    lr_schedule = tf.keras.optimizers.schedules.ExponentialDecay(\n",
    "        5e-4,\n",
    "        decay_steps=100,\n",
    "        decay_rate=0.96,\n",
    "        staircase=True\n",
    "    )\n",
    "\n",
    "history = ev.kfoldCrossValidation('/mimer/NOBACKUP/groups/snic2022-22-1091/museumFaces/Female/*.*', \n",
    "                      '/mimer/NOBACKUP/groups/snic2022-22-1091/museumFaces/Male/*.*',\n",
    "                      model, metric_list, lr_schedule, (299,299), None, 5, 20)"
   ]
  },
  {
   "cell_type": "code",
   "execution_count": null,
   "id": "f464a6bd",
   "metadata": {},
   "outputs": [],
   "source": [
    "print(\"Make folder...\")\n",
    "dir_name = datetime.datetime.now().strftime(\"%Y%m%d_%H%M%S\") + \"_kFoldCrossValidation_EfficientNet\"\n",
    "os.mkdir(dir_name)\n",
    "\n",
    "ev.evaluateCrossValidation(dir_name, history)"
   ]
  },
  {
   "cell_type": "markdown",
   "id": "7014515f",
   "metadata": {},
   "source": [
    "## Transfer learning with augmentation and without reweighting"
   ]
  },
  {
   "cell_type": "code",
   "execution_count": null,
   "id": "bb712191",
   "metadata": {},
   "outputs": [],
   "source": [
    "epochs = 20\n",
    "class_weight = mit.findClassWeights(train_batches)\n",
    "\n",
    "strategy = tf.distribute.MirroredStrategy()\n",
    "# Choose correct folder name\n",
    "dir_name = \"Test\"\n",
    "\n",
    "with strategy.scope():\n",
    "    # Choose the correct FairFace model\n",
    "    model = utils.loadModel(dir_name + \"/EfficientNet_FairFace_aug.h5\", m.metrics_dict())\n",
    "    metric_list = m.metrics_list()\n",
    "    lr_schedule = tf.keras.optimizers.schedules.ExponentialDecay(\n",
    "        1e-4,\n",
    "        decay_steps=100000,\n",
    "        decay_rate=0.96,\n",
    "    )\n",
    "\n",
    "# Total number of layers: 338 \n",
    "utils.freezeCertainLayers(model, 334)  \n",
    "    \n",
    "model.compile(optimizer=tf.keras.optimizers.Adam(learning_rate=lr_schedule), \n",
    "                           loss=\"binary_crossentropy\", \n",
    "                           metrics=metric_list)\n",
    "\n",
    "utils.train_model(model, epochs, ds_train, train_batches, ds_val, val_batches, None, False)\n",
    "\n",
    "print(\"Make folder...\")\n",
    "dir_name_transfer = datetime.datetime.now().strftime(\"%Y%m%d_%H%M%S\") + \"_EfficientNet_transfer_aug\"\n",
    "os.mkdir(dir_name_transfer)\n",
    "\n",
    "print(\"Name directory: \" + dir_name)\n",
    "utils.saveModel(model, dir_name_transfer + \"/EfficientNet_transfer_aug.h5\")"
   ]
  },
  {
   "cell_type": "code",
   "execution_count": null,
   "id": "7d17b3e0",
   "metadata": {},
   "outputs": [],
   "source": [
    "test_predict, test_labels, dir_name = ev.testModel(model, ds_test, test_batches, dir_name)\n",
    "ev.testModelWithThresholdChange(model, ds_val, val_batches, test_predict, test_labels, dir_name)"
   ]
  },
  {
   "cell_type": "code",
   "execution_count": null,
   "id": "96b1220c",
   "metadata": {},
   "outputs": [],
   "source": [
    "strategy = tf.distribute.MirroredStrategy()\n",
    "# Choose correct folder name\n",
    "dir_name = \"Test\"\n",
    "\n",
    "with strategy.scope():\n",
    "    # Choose the correct FairFace model\n",
    "    model = utils.loadModel(dir_name + \"/EfficientNet_FairFace_aug.h5\", m.metrics_dict())\n",
    "    metric_list = m.metrics_list()\n",
    "    lr_schedule = tf.keras.optimizers.schedules.ExponentialDecay(\n",
    "        5e-4,\n",
    "        decay_steps=100,\n",
    "        decay_rate=0.96,\n",
    "        staircase=True\n",
    "    )\n",
    "\n",
    "history = ev.kfoldCrossValidation('/mimer/NOBACKUP/groups/snic2022-22-1091/museumFaces/Female/*.*', \n",
    "                      '/mimer/NOBACKUP/groups/snic2022-22-1091/museumFaces/Male/*.*',\n",
    "                      model, metric_list, lr_schedule, (300,300), None, 5, 20)"
   ]
  },
  {
   "cell_type": "code",
   "execution_count": null,
   "id": "73f51590",
   "metadata": {},
   "outputs": [],
   "source": [
    "print(\"Make folder...\")\n",
    "dir_name = datetime.datetime.now().strftime(\"%Y%m%d_%H%M%S\") + \"_kFoldCrossValidation_EfficientNet_aug\"\n",
    "os.mkdir(dir_name)\n",
    "\n",
    "ev.evaluateCrossValidation(dir_name, history)"
   ]
  },
  {
   "cell_type": "markdown",
   "id": "5c58614d",
   "metadata": {},
   "source": [
    "## Transfer learning without augmentation and with reweighting"
   ]
  },
  {
   "cell_type": "code",
   "execution_count": null,
   "id": "bd4055b0",
   "metadata": {},
   "outputs": [],
   "source": [
    "epochs = 20\n",
    "class_weight = mit.findClassWeights(train_batches)\n",
    "\n",
    "strategy = tf.distribute.MirroredStrategy()\n",
    "# Choose correct folder name\n",
    "dir_name = \"Test\"\n",
    "\n",
    "with strategy.scope():\n",
    "    # Choose the correct FairFace model\n",
    "    model = utils.loadModel(dir_name + \"/EfficientNet_FairFace_re.h5\", m.metrics_dict())\n",
    "    metric_list = m.metrics_list()\n",
    "    lr_schedule = tf.keras.optimizers.schedules.ExponentialDecay(\n",
    "        1e-4,\n",
    "        decay_steps=100000,\n",
    "        decay_rate=0.96,\n",
    "    )\n",
    "\n",
    "# Total number of layers: 338    \n",
    "utils.freezeCertainLayers(model, 334)   \n",
    "    \n",
    "model.compile(optimizer=tf.keras.optimizers.Adam(learning_rate=lr_schedule), \n",
    "                           loss=\"binary_crossentropy\", \n",
    "                           metrics=metric_list)\n",
    "\n",
    "utils.train_model(model, epochs, ds_train, train_batches, ds_val, val_batches, class_weight)\n",
    "\n",
    "print(\"Make folder...\")\n",
    "dir_name_transfer = datetime.datetime.now().strftime(\"%Y%m%d_%H%M%S\") + \"_EfficientNet_transfer_re\"\n",
    "os.mkdir(dir_name_transfer)\n",
    "\n",
    "print(\"Name directory: \" + dir_name)\n",
    "utils.saveModel(model, dir_name_transfer + \"/EfficientNet_transfer_re.h5\")"
   ]
  },
  {
   "cell_type": "code",
   "execution_count": null,
   "id": "c10ea0c5",
   "metadata": {},
   "outputs": [],
   "source": [
    "test_predict, test_labels, dir_name = ev.testModel(model, ds_test, test_batches, dir_name)\n",
    "ev.testModelWithThresholdChange(model, ds_val, val_batches, test_predict, test_labels, dir_name)"
   ]
  },
  {
   "cell_type": "code",
   "execution_count": null,
   "id": "696521f3",
   "metadata": {},
   "outputs": [],
   "source": [
    "strategy = tf.distribute.MirroredStrategy()\n",
    "# Choose correct folder name\n",
    "dir_name = \"Test\"\n",
    "\n",
    "with strategy.scope():\n",
    "    # Choose the correct FairFace model\n",
    "    model = utils.loadModel(dir_name + \"/EfficientNet_FairFace_re.h5\", m.metrics_dict())\n",
    "    metric_list = m.metrics_list()\n",
    "    lr_schedule = tf.keras.optimizers.schedules.ExponentialDecay(\n",
    "        5e-4,\n",
    "        decay_steps=100,\n",
    "        decay_rate=0.96,\n",
    "        staircase=True\n",
    "    )\n",
    "\n",
    "history = ev.kfoldCrossValidation('/mimer/NOBACKUP/groups/snic2022-22-1091/museumFaces/Female/*.*', \n",
    "                      '/mimer/NOBACKUP/groups/snic2022-22-1091/museumFaces/Male/*.*',\n",
    "                      model, metric_list, lr_schedule, (300,300), class_weight, 5, 20)"
   ]
  },
  {
   "cell_type": "code",
   "execution_count": null,
   "id": "eaf41fcf",
   "metadata": {},
   "outputs": [],
   "source": [
    "print(\"Make folder...\")\n",
    "dir_name = datetime.datetime.now().strftime(\"%Y%m%d_%H%M%S\") + \"_kFoldCrossValidation_EfficientNet_re\"\n",
    "os.mkdir(dir_name)\n",
    "\n",
    "ev.evaluateCrossValidation(dir_name, history)"
   ]
  },
  {
   "cell_type": "markdown",
   "id": "6033f595",
   "metadata": {},
   "source": [
    "## Transfer learning with augmentation and reweighting"
   ]
  },
  {
   "cell_type": "code",
   "execution_count": null,
   "id": "26ccb0e3",
   "metadata": {},
   "outputs": [],
   "source": [
    "epochs = 20\n",
    "class_weight = mit.findClassWeights(train_batches)\n",
    "\n",
    "strategy = tf.distribute.MirroredStrategy()\n",
    "# Choose correct folder name\n",
    "dir_name = \"Test\"\n",
    "\n",
    "with strategy.scope():\n",
    "    # Choose the correct FairFace model\n",
    "    model = utils.loadModel(dir_name + \"/EfficinetNet_FairFace_aug.h5\", m.metrics_dict())\n",
    "    metric_list = m.metrics_list()\n",
    "    lr_schedule = tf.keras.optimizers.schedules.ExponentialDecay(\n",
    "        1e-4,\n",
    "        decay_steps=100000,\n",
    "        decay_rate=0.96,\n",
    "    )\n",
    "\n",
    "# Total number of layers: 338    \n",
    "utils.freezeCertainLayers(model, 334)  \n",
    "    \n",
    "model.compile(optimizer=tf.keras.optimizers.Adam(learning_rate=lr_schedule), \n",
    "                           loss=\"binary_crossentropy\", \n",
    "                           metrics=metric_list)\n",
    "\n",
    "utils.train_model(model, epochs, ds_train, train_batches, ds_val, val_batches, class_weight)\n",
    "\n",
    "print(\"Make folder...\")\n",
    "dir_name_transfer = datetime.datetime.now().strftime(\"%Y%m%d_%H%M%S\") + \"_EfficientNet_transfer_re_aug\"\n",
    "os.mkdir(dir_name_transfer)\n",
    "\n",
    "print(\"Name directory: \" + dir_name)\n",
    "utils.saveModel(model, dir_name_transfer + \"/EfficientNet_transfer_re_aug.h5\")"
   ]
  },
  {
   "cell_type": "code",
   "execution_count": null,
   "id": "1603747b",
   "metadata": {},
   "outputs": [],
   "source": [
    "test_predict, test_labels, dir_name = ev.testModel(model, ds_test, test_batches, dir_name)\n",
    "ev.testModelWithThresholdChange(model, ds_val, val_batches, test_predict, test_labels, dir_name)"
   ]
  },
  {
   "cell_type": "code",
   "execution_count": null,
   "id": "991a3cec",
   "metadata": {},
   "outputs": [],
   "source": [
    "strategy = tf.distribute.MirroredStrategy()\n",
    "# Choose correct folder name\n",
    "dir_name = \"Test\"\n",
    "\n",
    "with strategy.scope():\n",
    "    # Choose the correct FairFace model\n",
    "    model = utils.loadModel(dir_name + \"/EfficientNet_FairFace_aug.h5\", m.metrics_dict())\n",
    "    metric_list = m.metrics_list()\n",
    "    lr_schedule = tf.keras.optimizers.schedules.ExponentialDecay(\n",
    "        5e-4,\n",
    "        decay_steps=100,\n",
    "        decay_rate=0.96,\n",
    "        staircase=True\n",
    "    )\n",
    "\n",
    "history = ev.kfoldCrossValidation('/mimer/NOBACKUP/groups/snic2022-22-1091/museumFaces/Female/*.*', \n",
    "                      '/mimer/NOBACKUP/groups/snic2022-22-1091/museumFaces/Male/*.*',\n",
    "                      model, metric_list, lr_schedule, (300,300), class_weight, 5, 20)"
   ]
  },
  {
   "cell_type": "code",
   "execution_count": null,
   "id": "de97e5fb",
   "metadata": {},
   "outputs": [],
   "source": [
    "print(\"Make folder...\")\n",
    "dir_name = datetime.datetime.now().strftime(\"%Y%m%d_%H%M%S\") + \"_kFoldCrossValidation_EfficientNet_re_aug\"\n",
    "os.mkdir(dir_name)\n",
    "\n",
    "ev.evaluateCrossValidation(dir_name, history)"
   ]
  }
 ],
 "metadata": {
  "kernelspec": {
   "display_name": "Python 3 (ipykernel)",
   "language": "python",
   "name": "python3"
  },
  "language_info": {
   "codemirror_mode": {
    "name": "ipython",
    "version": 3
   },
   "file_extension": ".py",
   "mimetype": "text/x-python",
   "name": "python",
   "nbconvert_exporter": "python",
   "pygments_lexer": "ipython3",
   "version": "3.8.10"
  }
 },
 "nbformat": 4,
 "nbformat_minor": 5
}

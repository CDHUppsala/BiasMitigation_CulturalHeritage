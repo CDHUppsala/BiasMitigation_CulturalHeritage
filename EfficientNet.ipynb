{
 "cells": [
  {
   "cell_type": "markdown",
   "id": "c19182a3",
   "metadata": {},
   "source": [
    "# Testing EfficientNet "
   ]
  },
  {
   "cell_type": "code",
   "execution_count": null,
   "id": "bcb8e710",
   "metadata": {},
   "outputs": [],
   "source": [
    "import tensorflow as tf\n",
    "import data.imageReading as ir\n",
    "from fairness import fairnessMetrics as fm\n",
    "from model import model as m\n",
    "from model import utils as utils\n",
    "from model import biasMitigation as mit\n",
    "from model import evaluation as ev\n",
    "from tuning import callbacks as cb\n",
    "import datetime\n",
    "import os\n",
    "import numpy as np"
   ]
  },
  {
   "cell_type": "code",
   "execution_count": null,
   "id": "2e478a22",
   "metadata": {},
   "outputs": [],
   "source": [
    "preprocess_input = tf.keras.applications.efficientnet.preprocess_input\n",
    "\n",
    "image_size = (224,224)\n",
    "batch_size = 32\n",
    "epochs = 30\n",
    "(ds_train, train_batches, ds_val, val_batches, ds_test, test_batches, count_classes) = ir.readData(\"/mimer/NOBACKUP/groups/snic2022-22-1091/museumFaces\", image_size, batch_size, preprocess_input)\n",
    "(ffds_train, fftrain_batches, ffds_val, ffval_batches, ffds_test, fftest_batches, ffcount_classes) = ir.readData(\"/mimer/NOBACKUP/groups/snic2022-22-1091/FairFace\", image_size, batch_size, preprocess_input)\n"
   ]
  },
  {
   "cell_type": "markdown",
   "id": "bdb1ad24",
   "metadata": {},
   "source": [
    "## Find learning rate"
   ]
  },
  {
   "cell_type": "code",
   "execution_count": null,
   "id": "dff87450",
   "metadata": {},
   "outputs": [],
   "source": [
    "class_weight = mit.findClassWeights(train_batches)\n",
    "\n",
    "strategy = tf.distribute.MirroredStrategy()\n",
    "\n",
    "with strategy.scope():\n",
    "    model = m.build_model(False, (224,224), \"Efficient\")\n",
    "    metric_list = m.metrics_list()\n",
    "\n",
    "model.summary()\n",
    "model.compile(optimizer=tf.keras.optimizers.Adam(), \n",
    "                           loss=\"binary_crossentropy\", \n",
    "                           metrics=\"accuracy\")\n",
    "\n",
    "    \n",
    "options = tf.data.Options()\n",
    "options.experimental_distribute.auto_shard_policy = tf.data.experimental.AutoShardPolicy.OFF\n",
    "ds_train = ds_train.with_options(options)\n",
    "ds_val = ds_val.with_options(options)\n",
    "ds_test = ds_test.with_options(options)"
   ]
  },
  {
   "cell_type": "code",
   "execution_count": null,
   "id": "4323828f",
   "metadata": {},
   "outputs": [],
   "source": [
    "epochs = 200\n",
    "train_input = []\n",
    "train_output = []\n",
    "nr_batches = 10\n",
    "\n",
    "model.fit(ds_train, steps_per_epoch=nr_batches, callbacks=[cb.LerningRateCallback(100, nr_batches)], epochs=epochs, verbose=2)"
   ]
  },
  {
   "cell_type": "markdown",
   "id": "9df437d5",
   "metadata": {},
   "source": [
    "## Cross Validation EfficientNet without Transfer Learning (unweighted)"
   ]
  },
  {
   "cell_type": "code",
   "execution_count": null,
   "id": "3f051760",
   "metadata": {},
   "outputs": [],
   "source": [
    "preprocess = tf.keras.applications.efficientnet.preprocess_input\n",
    "history = ev.kfoldCrossValidation(\"/mimer/NOBACKUP/groups/snic2022-22-1091/museumFaces\", m.build_model(False, (224,224), \"Efficient\"), preprocess)"
   ]
  },
  {
   "cell_type": "markdown",
   "id": "7a7de377",
   "metadata": {},
   "source": [
    "## Test EfficientNet without Transfer Learning (unweighted) "
   ]
  },
  {
   "cell_type": "code",
   "execution_count": null,
   "id": "fbd9378b",
   "metadata": {},
   "outputs": [],
   "source": [
    "preprocess_input = tf.keras.applications.efficientnet.preprocess_input\n",
    "\n",
    "image_size = (224,224)\n",
    "batch_size = 8\n",
    "epochs = 60\n",
    "(ds_train, train_batches, ds_val, val_batches, ds_test, test_batches, count_classes) = ir.readData(\"/mimer/NOBACKUP/groups/snic2022-22-1091/museumFaces\", image_size, batch_size, preprocess_input)\n",
    "\n",
    "class_weight = mit.findClassWeights(train_batches)\n",
    "\n",
    "strategy = tf.distribute.MirroredStrategy()\n",
    "\n",
    "with strategy.scope():\n",
    "    model = m.build_model(False, (224,224), \"Efficient\")\n",
    "    metric_list = m.metrics_list()\n",
    "\n",
    "model.summary()\n",
    "model.compile(optimizer=tf.keras.optimizers.Adam(1e-4), \n",
    "                           loss=\"binary_crossentropy\", \n",
    "                           metrics=\"accuracy\")\n",
    "\n",
    "\n",
    "utils.train_model(model, epochs, ds_train, train_batches, ds_val, val_batches, None, False)\n",
    "\n",
    "print(\"Make folder...\")\n",
    "dir_name = datetime.datetime.now().strftime(\"%Y%m%d_%H%M%S\") + \"_EfficientNet_unweighted\"\n",
    "os.mkdir(dir_name)\n",
    "\n",
    "utils.saveModel(model, dir_name + \"/EfficientNet_unweighted.h5\")"
   ]
  },
  {
   "cell_type": "code",
   "execution_count": null,
   "id": "180fb8a9",
   "metadata": {},
   "outputs": [],
   "source": [
    "print(\"Make folder...\")\n",
    "dir_name = datetime.datetime.now().strftime(\"%Y%m%d_%H%M%S\") + \"_EfficientNet_unweighted\"\n",
    "os.mkdir(dir_name)\n",
    "    \n",
    "\n",
    "test_predict, test_labels, dir_name = ev.testModel(model, ds_test, test_batches, dir_name)\n",
    "ev.testModelWithThresholdChange(model, ds_val, val_batches, test_predict, test_labels, dir_name)"
   ]
  }
 ],
 "metadata": {
  "kernelspec": {
   "display_name": "Python 3 (ipykernel)",
   "language": "python",
   "name": "python3"
  },
  "language_info": {
   "codemirror_mode": {
    "name": "ipython",
    "version": 3
   },
   "file_extension": ".py",
   "mimetype": "text/x-python",
   "name": "python",
   "nbconvert_exporter": "python",
   "pygments_lexer": "ipython3",
   "version": "3.10.7"
  }
 },
 "nbformat": 4,
 "nbformat_minor": 5
}

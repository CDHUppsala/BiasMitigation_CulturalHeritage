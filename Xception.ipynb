{
 "cells": [
  {
   "cell_type": "markdown",
   "id": "c19182a3",
   "metadata": {},
   "source": [
    "# Testing Xception"
   ]
  },
  {
   "cell_type": "code",
   "execution_count": 1,
   "id": "bcb8e710",
   "metadata": {},
   "outputs": [],
   "source": [
    "import tensorflow as tf\n",
    "import data.imageReading as ir\n",
    "from fairness import fairnessMetrics as fm\n",
    "from model import model as m\n",
    "from model import utils as utils\n",
    "from model import biasMitigation as mit\n",
    "from model import evaluation as ev\n",
    "from tuning import callbacks as cb\n",
    "import datetime\n",
    "import os\n",
    "import numpy as np"
   ]
  },
  {
   "cell_type": "code",
   "execution_count": 2,
   "id": "2e478a22",
   "metadata": {},
   "outputs": [
    {
     "name": "stdout",
     "output_type": "stream",
     "text": [
      "Found 3916 images belonging to 2 classes.\n",
      "Found 489 images belonging to 2 classes.\n",
      "Found 492 images belonging to 2 classes.\n",
      "Count classes: (2052, 1864, 256, 233, 258, 234)\n",
      "Found 78158 images belonging to 2 classes.\n",
      "Found 9769 images belonging to 2 classes.\n",
      "Found 9771 images belonging to 2 classes.\n",
      "Count classes: (36736, 41422, 4592, 5177, 4592, 5179)\n"
     ]
    }
   ],
   "source": [
    "preprocess_input = tf.keras.applications.xception.preprocess_input\n",
    "\n",
    "image_size = (299,299)\n",
    "batch_size = 32\n",
    "epochs = 20\n",
    "#(ds_train, train_batches, ds_val, val_batches, ds_test, test_batches, count_classes) = ir.readData(\"/mimer/NOBACKUP/groups/snic2022-22-1091/museumFaces\", image_size, batch_size, preprocess_input)\n",
    "#(ffds_train, fftrain_batches, ffds_val, ffval_batches, ffds_test, fftest_batches, ffcount_classes) = ir.readData(\"/mimer/NOBACKUP/groups/snic2022-22-1091/FairFace\", image_size, batch_size, preprocess_input)\n",
    "(ds_train, train_batches, ds_val, val_batches, ds_test, test_batches, count_classes) = ir.readData(\"/mimer/NOBACKUP/groups/snic2022-22-1091/museumFaces_split\", image_size, batch_size, preprocess_input, None, False, False)\n",
    "(ffds_train, fftrain_batches, ffds_val, ffval_batches, ffds_test, fftest_batches, ffcount_classes) = ir.readData(\"/mimer/NOBACKUP/groups/snic2022-22-1091/FairFace_split\", image_size, batch_size, preprocess_input, None, False, False)\n",
    "\n",
    "\n",
    "options = tf.data.Options()\n",
    "options.experimental_distribute.auto_shard_policy = tf.data.experimental.AutoShardPolicy.OFF\n",
    "ds_train = ds_train.with_options(options)\n",
    "ds_val = ds_val.with_options(options)\n",
    "ds_test = ds_test.with_options(options)"
   ]
  },
  {
   "cell_type": "markdown",
   "id": "bdb1ad24",
   "metadata": {},
   "source": [
    "## Find learning rate"
   ]
  },
  {
   "cell_type": "code",
   "execution_count": 3,
   "id": "dff87450",
   "metadata": {},
   "outputs": [
    {
     "name": "stdout",
     "output_type": "stream",
     "text": [
      "Weight for class 0: 0.95\n",
      "Weight for class 1: 1.05\n",
      "INFO:tensorflow:Using MirroredStrategy with devices ('/job:localhost/replica:0/task:0/device:GPU:0',)\n",
      "INFO:tensorflow:Reduce to /job:localhost/replica:0/task:0/device:CPU:0 then broadcast to ('/job:localhost/replica:0/task:0/device:CPU:0',).\n",
      "INFO:tensorflow:Reduce to /job:localhost/replica:0/task:0/device:CPU:0 then broadcast to ('/job:localhost/replica:0/task:0/device:CPU:0',).\n",
      "INFO:tensorflow:Reduce to /job:localhost/replica:0/task:0/device:CPU:0 then broadcast to ('/job:localhost/replica:0/task:0/device:CPU:0',).\n",
      "INFO:tensorflow:Reduce to /job:localhost/replica:0/task:0/device:CPU:0 then broadcast to ('/job:localhost/replica:0/task:0/device:CPU:0',).\n",
      "INFO:tensorflow:Reduce to /job:localhost/replica:0/task:0/device:CPU:0 then broadcast to ('/job:localhost/replica:0/task:0/device:CPU:0',).\n",
      "INFO:tensorflow:Reduce to /job:localhost/replica:0/task:0/device:CPU:0 then broadcast to ('/job:localhost/replica:0/task:0/device:CPU:0',).\n",
      "INFO:tensorflow:Reduce to /job:localhost/replica:0/task:0/device:CPU:0 then broadcast to ('/job:localhost/replica:0/task:0/device:CPU:0',).\n",
      "INFO:tensorflow:Reduce to /job:localhost/replica:0/task:0/device:CPU:0 then broadcast to ('/job:localhost/replica:0/task:0/device:CPU:0',).\n",
      "INFO:tensorflow:Reduce to /job:localhost/replica:0/task:0/device:CPU:0 then broadcast to ('/job:localhost/replica:0/task:0/device:CPU:0',).\n",
      "INFO:tensorflow:Reduce to /job:localhost/replica:0/task:0/device:CPU:0 then broadcast to ('/job:localhost/replica:0/task:0/device:CPU:0',).\n"
     ]
    }
   ],
   "source": [
    "class_weight = mit.findClassWeights(train_batches)\n",
    "\n",
    "strategy = tf.distribute.MirroredStrategy()\n",
    "\n",
    "with strategy.scope():\n",
    "    model = m.build_model(False, (299,299), \"Xception\")\n",
    "    metric_list = m.metrics_list()\n",
    "\n",
    "model.compile(optimizer=tf.keras.optimizers.Adam(), \n",
    "                           loss=\"binary_crossentropy\", \n",
    "                           metrics=\"accuracy\")\n"
   ]
  },
  {
   "cell_type": "code",
   "execution_count": 4,
   "id": "4323828f",
   "metadata": {},
   "outputs": [
    {
     "name": "stdout",
     "output_type": "stream",
     "text": [
      "Epoch 1/200\n",
      "WARNING:tensorflow:Callback method `on_train_batch_end` is slow compared to the batch time (batch time: 0.1034s vs `on_train_batch_end` time: 0.3084s). Check your callbacks.\n",
      "10/10 - 21s - loss: 0.8381 - accuracy: 0.4812 - 21s/epoch - 2s/step\n",
      "Epoch 2/200\n",
      "10/10 - 5s - loss: 0.8519 - accuracy: 0.4844 - 5s/epoch - 452ms/step\n",
      "Epoch 3/200\n",
      "10/10 - 5s - loss: 0.8866 - accuracy: 0.4563 - 5s/epoch - 464ms/step\n",
      "Epoch 4/200\n",
      "10/10 - 4s - loss: 0.8524 - accuracy: 0.4969 - 4s/epoch - 445ms/step\n",
      "Epoch 5/200\n",
      "10/10 - 5s - loss: 0.8034 - accuracy: 0.5531 - 5s/epoch - 475ms/step\n",
      "Epoch 6/200\n",
      "10/10 - 5s - loss: 0.9018 - accuracy: 0.4437 - 5s/epoch - 467ms/step\n",
      "Epoch 7/200\n",
      "10/10 - 5s - loss: 0.8527 - accuracy: 0.4875 - 5s/epoch - 463ms/step\n",
      "Epoch 8/200\n",
      "10/10 - 5s - loss: 0.8126 - accuracy: 0.5344 - 5s/epoch - 455ms/step\n",
      "Epoch 9/200\n",
      "10/10 - 4s - loss: 0.7962 - accuracy: 0.5625 - 4s/epoch - 443ms/step\n",
      "Epoch 10/200\n",
      "10/10 - 5s - loss: 0.8256 - accuracy: 0.5094 - 5s/epoch - 453ms/step\n",
      "Epoch 11/200\n",
      "10/10 - 5s - loss: 0.8568 - accuracy: 0.5031 - 5s/epoch - 452ms/step\n",
      "Epoch 12/200\n",
      "10/10 - 5s - loss: 0.8698 - accuracy: 0.4875 - 5s/epoch - 455ms/step\n",
      "Epoch 13/200\n",
      "10/10 - 5s - loss: 0.8739 - accuracy: 0.5100 - 5s/epoch - 526ms/step\n",
      "Epoch 14/200\n",
      "10/10 - 5s - loss: 0.8386 - accuracy: 0.5125 - 5s/epoch - 478ms/step\n",
      "Epoch 15/200\n",
      "10/10 - 5s - loss: 0.8779 - accuracy: 0.4531 - 5s/epoch - 470ms/step\n",
      "Epoch 16/200\n",
      "10/10 - 5s - loss: 0.8567 - accuracy: 0.4938 - 5s/epoch - 452ms/step\n",
      "Epoch 17/200\n",
      "10/10 - 4s - loss: 0.8786 - accuracy: 0.4500 - 4s/epoch - 440ms/step\n",
      "Epoch 18/200\n",
      "10/10 - 4s - loss: 0.8485 - accuracy: 0.5000 - 4s/epoch - 450ms/step\n",
      "Epoch 19/200\n",
      "10/10 - 5s - loss: 0.8697 - accuracy: 0.4625 - 5s/epoch - 468ms/step\n",
      "Epoch 20/200\n",
      "10/10 - 5s - loss: 0.8335 - accuracy: 0.4750 - 5s/epoch - 453ms/step\n",
      "Epoch 21/200\n",
      "10/10 - 4s - loss: 0.7796 - accuracy: 0.5500 - 4s/epoch - 444ms/step\n",
      "Epoch 22/200\n",
      "10/10 - 4s - loss: 0.7999 - accuracy: 0.5406 - 4s/epoch - 448ms/step\n",
      "Epoch 23/200\n",
      "10/10 - 5s - loss: 0.8187 - accuracy: 0.5375 - 5s/epoch - 455ms/step\n",
      "Epoch 24/200\n",
      "10/10 - 5s - loss: 0.8854 - accuracy: 0.4594 - 5s/epoch - 453ms/step\n",
      "Epoch 25/200\n",
      "10/10 - 4s - loss: 0.8349 - accuracy: 0.5100 - 4s/epoch - 425ms/step\n",
      "Epoch 26/200\n",
      "10/10 - 5s - loss: 0.8332 - accuracy: 0.4781 - 5s/epoch - 464ms/step\n",
      "Epoch 27/200\n",
      "10/10 - 4s - loss: 0.8880 - accuracy: 0.4500 - 4s/epoch - 443ms/step\n",
      "Epoch 28/200\n",
      "10/10 - 5s - loss: 0.8436 - accuracy: 0.4875 - 5s/epoch - 451ms/step\n",
      "Epoch 29/200\n",
      "10/10 - 4s - loss: 0.8286 - accuracy: 0.5125 - 4s/epoch - 447ms/step\n",
      "Epoch 30/200\n",
      "10/10 - 4s - loss: 0.8685 - accuracy: 0.4938 - 4s/epoch - 442ms/step\n",
      "Epoch 31/200\n",
      "10/10 - 5s - loss: 0.8184 - accuracy: 0.5156 - 5s/epoch - 461ms/step\n",
      "Epoch 32/200\n",
      "10/10 - 4s - loss: 0.8236 - accuracy: 0.5281 - 4s/epoch - 440ms/step\n",
      "Epoch 33/200\n",
      "10/10 - 5s - loss: 0.8889 - accuracy: 0.4719 - 5s/epoch - 455ms/step\n",
      "Epoch 34/200\n",
      "10/10 - 5s - loss: 0.8777 - accuracy: 0.4656 - 5s/epoch - 478ms/step\n",
      "Epoch 35/200\n",
      "10/10 - 5s - loss: 0.8312 - accuracy: 0.5000 - 5s/epoch - 489ms/step\n",
      "Epoch 36/200\n",
      "10/10 - 5s - loss: 0.8529 - accuracy: 0.5000 - 5s/epoch - 456ms/step\n",
      "Epoch 37/200\n",
      "10/10 - 4s - loss: 0.8040 - accuracy: 0.5333 - 4s/epoch - 421ms/step\n",
      "Epoch 38/200\n",
      "10/10 - 5s - loss: 0.8491 - accuracy: 0.4938 - 5s/epoch - 522ms/step\n",
      "Epoch 39/200\n",
      "10/10 - 4s - loss: 0.8255 - accuracy: 0.5063 - 4s/epoch - 448ms/step\n",
      "Epoch 40/200\n",
      "10/10 - 5s - loss: 0.8064 - accuracy: 0.5219 - 5s/epoch - 486ms/step\n",
      "Epoch 41/200\n",
      "10/10 - 5s - loss: 0.8780 - accuracy: 0.4594 - 5s/epoch - 470ms/step\n",
      "Epoch 42/200\n",
      "10/10 - 5s - loss: 0.8194 - accuracy: 0.5312 - 5s/epoch - 466ms/step\n",
      "Epoch 43/200\n",
      "10/10 - 4s - loss: 0.8532 - accuracy: 0.4625 - 4s/epoch - 446ms/step\n",
      "Epoch 44/200\n",
      "10/10 - 5s - loss: 0.7645 - accuracy: 0.5437 - 5s/epoch - 459ms/step\n",
      "Epoch 45/200\n",
      "10/10 - 5s - loss: 0.8740 - accuracy: 0.4500 - 5s/epoch - 458ms/step\n",
      "Epoch 46/200\n",
      "10/10 - 5s - loss: 0.8626 - accuracy: 0.4719 - 5s/epoch - 468ms/step\n",
      "Epoch 47/200\n",
      "10/10 - 5s - loss: 0.8533 - accuracy: 0.4969 - 5s/epoch - 537ms/step\n",
      "Epoch 48/200\n",
      "10/10 - 5s - loss: 0.8501 - accuracy: 0.4938 - 5s/epoch - 466ms/step\n",
      "Epoch 49/200\n",
      "10/10 - 4s - loss: 0.8357 - accuracy: 0.4781 - 4s/epoch - 444ms/step\n",
      "Epoch 50/200\n",
      "10/10 - 5s - loss: 0.7906 - accuracy: 0.5233 - 5s/epoch - 452ms/step\n",
      "Epoch 51/200\n",
      "10/10 - 5s - loss: 0.7902 - accuracy: 0.4844 - 5s/epoch - 475ms/step\n",
      "Epoch 52/200\n",
      "10/10 - 4s - loss: 0.7366 - accuracy: 0.5594 - 4s/epoch - 449ms/step\n",
      "Epoch 53/200\n",
      "10/10 - 5s - loss: 0.8073 - accuracy: 0.5375 - 5s/epoch - 450ms/step\n",
      "Epoch 54/200\n",
      "10/10 - 4s - loss: 0.8098 - accuracy: 0.5031 - 4s/epoch - 441ms/step\n",
      "Epoch 55/200\n",
      "10/10 - 5s - loss: 0.7891 - accuracy: 0.4969 - 5s/epoch - 454ms/step\n",
      "Epoch 56/200\n",
      "10/10 - 5s - loss: 0.7831 - accuracy: 0.4938 - 5s/epoch - 453ms/step\n",
      "Epoch 57/200\n",
      "10/10 - 5s - loss: 0.8303 - accuracy: 0.4750 - 5s/epoch - 467ms/step\n",
      "Epoch 58/200\n",
      "10/10 - 5s - loss: 0.7843 - accuracy: 0.4906 - 5s/epoch - 518ms/step\n",
      "Epoch 59/200\n",
      "10/10 - 5s - loss: 0.7786 - accuracy: 0.5031 - 5s/epoch - 519ms/step\n",
      "Epoch 60/200\n",
      "10/10 - 4s - loss: 0.7743 - accuracy: 0.5219 - 4s/epoch - 449ms/step\n",
      "Epoch 61/200\n",
      "10/10 - 5s - loss: 0.7577 - accuracy: 0.5156 - 5s/epoch - 452ms/step\n",
      "Epoch 62/200\n",
      "10/10 - 4s - loss: 0.7353 - accuracy: 0.5667 - 4s/epoch - 439ms/step\n",
      "Epoch 63/200\n",
      "10/10 - 5s - loss: 0.7708 - accuracy: 0.5125 - 5s/epoch - 451ms/step\n",
      "Epoch 64/200\n",
      "10/10 - 5s - loss: 0.7833 - accuracy: 0.4938 - 5s/epoch - 488ms/step\n",
      "Epoch 65/200\n",
      "10/10 - 5s - loss: 0.7517 - accuracy: 0.5188 - 5s/epoch - 469ms/step\n",
      "Epoch 66/200\n",
      "10/10 - 5s - loss: 0.8052 - accuracy: 0.5188 - 5s/epoch - 502ms/step\n",
      "Epoch 67/200\n",
      "10/10 - 5s - loss: 0.7730 - accuracy: 0.5375 - 5s/epoch - 451ms/step\n",
      "Epoch 68/200\n",
      "10/10 - 4s - loss: 0.7543 - accuracy: 0.5188 - 4s/epoch - 446ms/step\n",
      "Epoch 69/200\n",
      "10/10 - 5s - loss: 0.8668 - accuracy: 0.4875 - 5s/epoch - 483ms/step\n",
      "Epoch 70/200\n",
      "10/10 - 5s - loss: 0.7897 - accuracy: 0.5219 - 5s/epoch - 464ms/step\n",
      "Epoch 71/200\n",
      "10/10 - 4s - loss: 0.7843 - accuracy: 0.5000 - 4s/epoch - 450ms/step\n",
      "Epoch 72/200\n",
      "10/10 - 5s - loss: 0.8172 - accuracy: 0.4906 - 5s/epoch - 481ms/step\n",
      "Epoch 73/200\n",
      "10/10 - 4s - loss: 0.8303 - accuracy: 0.5156 - 4s/epoch - 438ms/step\n",
      "Epoch 74/200\n",
      "10/10 - 4s - loss: 0.7999 - accuracy: 0.5633 - 4s/epoch - 422ms/step\n",
      "Epoch 75/200\n",
      "10/10 - 5s - loss: 0.7931 - accuracy: 0.5875 - 5s/epoch - 456ms/step\n",
      "Epoch 76/200\n",
      "10/10 - 5s - loss: 0.7929 - accuracy: 0.5344 - 5s/epoch - 468ms/step\n",
      "Epoch 77/200\n",
      "10/10 - 5s - loss: 0.8533 - accuracy: 0.5281 - 5s/epoch - 471ms/step\n",
      "Epoch 78/200\n",
      "10/10 - 5s - loss: 1.0198 - accuracy: 0.5281 - 5s/epoch - 497ms/step\n",
      "Epoch 79/200\n",
      "10/10 - 5s - loss: 0.8946 - accuracy: 0.5750 - 5s/epoch - 454ms/step\n",
      "Epoch 80/200\n",
      "10/10 - 5s - loss: 0.9535 - accuracy: 0.5656 - 5s/epoch - 459ms/step\n",
      "Epoch 81/200\n",
      "10/10 - 5s - loss: 1.0228 - accuracy: 0.5312 - 5s/epoch - 480ms/step\n",
      "Epoch 82/200\n",
      "10/10 - 5s - loss: 1.1907 - accuracy: 0.5344 - 5s/epoch - 457ms/step\n",
      "Epoch 83/200\n",
      "10/10 - 5s - loss: 1.4727 - accuracy: 0.4656 - 5s/epoch - 451ms/step\n",
      "Epoch 84/200\n",
      "10/10 - 5s - loss: 1.0147 - accuracy: 0.5063 - 5s/epoch - 499ms/step\n",
      "Epoch 85/200\n",
      "10/10 - 5s - loss: 1.2323 - accuracy: 0.5562 - 5s/epoch - 460ms/step\n",
      "Epoch 86/200\n",
      "10/10 - 5s - loss: 1.1995 - accuracy: 0.5031 - 5s/epoch - 457ms/step\n",
      "Epoch 87/200\n",
      "10/10 - 4s - loss: 1.4025 - accuracy: 0.5433 - 4s/epoch - 421ms/step\n",
      "Epoch 88/200\n",
      "10/10 - 5s - loss: 1.2305 - accuracy: 0.5344 - 5s/epoch - 456ms/step\n",
      "Epoch 89/200\n",
      "10/10 - 5s - loss: 1.1796 - accuracy: 0.4750 - 5s/epoch - 451ms/step\n",
      "Epoch 90/200\n",
      "10/10 - 4s - loss: 1.1577 - accuracy: 0.4750 - 4s/epoch - 447ms/step\n",
      "Epoch 91/200\n",
      "10/10 - 5s - loss: 1.1048 - accuracy: 0.5188 - 5s/epoch - 461ms/step\n",
      "Epoch 92/200\n",
      "10/10 - 5s - loss: 1.1732 - accuracy: 0.5188 - 5s/epoch - 455ms/step\n",
      "Epoch 93/200\n",
      "10/10 - 5s - loss: 1.3211 - accuracy: 0.5406 - 5s/epoch - 499ms/step\n",
      "Epoch 94/200\n",
      "10/10 - 5s - loss: 1.4487 - accuracy: 0.5156 - 5s/epoch - 467ms/step\n",
      "Epoch 95/200\n",
      "10/10 - 5s - loss: 1.8611 - accuracy: 0.4906 - 5s/epoch - 486ms/step\n",
      "Epoch 96/200\n",
      "10/10 - 4s - loss: 1.9128 - accuracy: 0.4875 - 4s/epoch - 450ms/step\n",
      "Epoch 97/200\n",
      "10/10 - 4s - loss: 1.0986 - accuracy: 0.5125 - 4s/epoch - 441ms/step\n",
      "Epoch 98/200\n",
      "10/10 - 4s - loss: 1.8961 - accuracy: 0.4469 - 4s/epoch - 448ms/step\n",
      "Epoch 99/200\n",
      "10/10 - 4s - loss: 1.1208 - accuracy: 0.5267 - 4s/epoch - 422ms/step\n",
      "Epoch 100/200\n",
      "10/10 - 4s - loss: 1.6538 - accuracy: 0.5437 - 4s/epoch - 443ms/step\n"
     ]
    },
    {
     "data": {
      "image/png": "[encoded data removed]",
      "text/plain": [
       "<Figure size 432x288 with 1 Axes>"
      ]
     },
     "metadata": {
      "needs_background": "light"
     },
     "output_type": "display_data"
    },
    {
     "data": {
      "text/plain": [
       "<keras.callbacks.History at 0x14a7d9bf1130>"
      ]
     },
     "execution_count": 4,
     "metadata": {},
     "output_type": "execute_result"
    }
   ],
   "source": [
    "epochs = 200\n",
    "train_input = []\n",
    "train_output = []\n",
    "nr_batches = 10\n",
    "\n",
    "model.fit(ds_train, steps_per_epoch=nr_batches, callbacks=[cb.LerningRateCallback(100, nr_batches)], epochs=epochs, verbose=2)"
   ]
  },
  {
   "cell_type": "markdown",
   "id": "9df437d5",
   "metadata": {},
   "source": [
    "## 5-Fold Cross Validation Xception without Transfer Learning (unweighted)"
   ]
  },
  {
   "cell_type": "code",
   "execution_count": 3,
   "id": "3f051760",
   "metadata": {},
   "outputs": [
    {
     "name": "stdout",
     "output_type": "stream",
     "text": [
      "INFO:tensorflow:Using MirroredStrategy with devices ('/job:localhost/replica:0/task:0/device:GPU:0',)\n",
      "INFO:tensorflow:Reduce to /job:localhost/replica:0/task:0/device:CPU:0 then broadcast to ('/job:localhost/replica:0/task:0/device:CPU:0',).\n",
      "INFO:tensorflow:Reduce to /job:localhost/replica:0/task:0/device:CPU:0 then broadcast to ('/job:localhost/replica:0/task:0/device:CPU:0',).\n",
      "INFO:tensorflow:Reduce to /job:localhost/replica:0/task:0/device:CPU:0 then broadcast to ('/job:localhost/replica:0/task:0/device:CPU:0',).\n",
      "INFO:tensorflow:Reduce to /job:localhost/replica:0/task:0/device:CPU:0 then broadcast to ('/job:localhost/replica:0/task:0/device:CPU:0',).\n",
      "INFO:tensorflow:Reduce to /job:localhost/replica:0/task:0/device:CPU:0 then broadcast to ('/job:localhost/replica:0/task:0/device:CPU:0',).\n",
      "INFO:tensorflow:Reduce to /job:localhost/replica:0/task:0/device:CPU:0 then broadcast to ('/job:localhost/replica:0/task:0/device:CPU:0',).\n",
      "INFO:tensorflow:Reduce to /job:localhost/replica:0/task:0/device:CPU:0 then broadcast to ('/job:localhost/replica:0/task:0/device:CPU:0',).\n",
      "INFO:tensorflow:Reduce to /job:localhost/replica:0/task:0/device:CPU:0 then broadcast to ('/job:localhost/replica:0/task:0/device:CPU:0',).\n",
      "INFO:tensorflow:Reduce to /job:localhost/replica:0/task:0/device:CPU:0 then broadcast to ('/job:localhost/replica:0/task:0/device:CPU:0',).\n",
      "INFO:tensorflow:Reduce to /job:localhost/replica:0/task:0/device:CPU:0 then broadcast to ('/job:localhost/replica:0/task:0/device:CPU:0',).\n",
      "Found 4897 files belonging to 2 classes.\n"
     ]
    },
    {
     "name": "stderr",
     "output_type": "stream",
     "text": [
      "/apps/Arch/software/TensorFlow/2.7.1-foss-2021b-CUDA-11.4.1/lib/python3.9/site-packages/keras/engine/functional.py:1410: CustomMaskWarning: Custom mask layers require a config and must override get_config. When loading, the custom mask layer must be passed to the custom_objects argument.\n",
      "  layer_config = serialize_layer_fn(layer)\n"
     ]
    },
    {
     "name": "stdout",
     "output_type": "stream",
     "text": [
      "sc\n",
      "Epoch 1/20\n",
      "123/123 [==============================] - ETA: 0s - loss: 0.9817 - accuracy: 0.5959 - true_positives: 1075.0000 - true_negatives: 1252.0000 - false_positives: 770.0000 - false_negatives: 808.0000 - true_positive_rate: 0.5709 - true_negative_rate: 0.6192 - false_positive_rate: 0.3808 - false_negative_rate: 0.4291 - positive_predicted_value: 0.5827 - false_discovery_rate: 0.4173 - negative_predicted_value: 0.6078 - false_omission_rate: 0.3922 - binary_demographic_parity_diff: -215.0000 - demographic_parity: 1845.0000 - binary_equalized_odds_diff: 0.0483 - binary_proportional_parity_diff: -0.0551 - proportional_parity: 0.4725 - binary_predictive_rate_parity_diff: -0.0251 - predictive_rate_parity: 0.5827 - binary_accuracy_parity_diff: 0.1918 - accuracy_parity: 0.5959 - false_negative_rate_parity_diff: -0.0483 - false_positive_rate_parity_diff: 0.0483 - binary_negative_predictive_rate_parity_diff: 0.0251 - negative_predictive_rate_parity: 0.5827 - binary_specificity_parity_diff: -0.0483"
     ]
    },
    {
     "name": "stderr",
     "output_type": "stream",
     "text": [
      "2022-12-06 22:56:08.958010: W tensorflow/core/framework/cpu_allocator_impl.cc:82] Allocation of 50331648000 exceeds 10% of free system memory.\n"
     ]
    },
    {
     "name": "stdout",
     "output_type": "stream",
     "text": [
      "123/123 [==============================] - 128s 732ms/step - loss: 0.9817 - accuracy: 0.5959 - true_positives: 1075.0000 - true_negatives: 1252.0000 - false_positives: 770.0000 - false_negatives: 808.0000 - true_positive_rate: 0.5709 - true_negative_rate: 0.6192 - false_positive_rate: 0.3808 - false_negative_rate: 0.4291 - positive_predicted_value: 0.5827 - false_discovery_rate: 0.4173 - negative_predicted_value: 0.6078 - false_omission_rate: 0.3922 - binary_demographic_parity_diff: -215.0000 - demographic_parity: 1845.0000 - binary_equalized_odds_diff: 0.0483 - binary_proportional_parity_diff: -0.0551 - proportional_parity: 0.4725 - binary_predictive_rate_parity_diff: -0.0251 - predictive_rate_parity: 0.5827 - binary_accuracy_parity_diff: 0.1918 - accuracy_parity: 0.5959 - false_negative_rate_parity_diff: -0.0483 - false_positive_rate_parity_diff: 0.0483 - binary_negative_predictive_rate_parity_diff: 0.0251 - negative_predictive_rate_parity: 0.5827 - binary_specificity_parity_diff: -0.0483 - val_loss: 0.6934 - val_accuracy: 0.4496 - val_true_positives: 446.0000 - val_true_negatives: 0.0000e+00 - val_false_positives: 546.0000 - val_false_negatives: 0.0000e+00 - val_true_positive_rate: 1.0000 - val_true_negative_rate: 0.0000e+00 - val_false_positive_rate: 1.0000 - val_false_negative_rate: 0.0000e+00 - val_positive_predicted_value: 0.4496 - val_false_discovery_rate: 0.5504 - val_negative_predicted_value: 0.0000e+00 - val_false_omission_rate: 0.0000e+00 - val_binary_demographic_parity_diff: 992.0000 - val_demographic_parity: 992.0000 - val_binary_equalized_odds_diff: -1.0000 - val_binary_proportional_parity_diff: 1.0000 - val_proportional_parity: 1.0000 - val_binary_predictive_rate_parity_diff: 0.4496 - val_predictive_rate_parity: 0.4496 - val_binary_accuracy_parity_diff: -0.1008 - val_accuracy_parity: 0.4496 - val_false_negative_rate_parity_diff: 1.0000 - val_false_positive_rate_parity_diff: -1.0000 - val_binary_negative_predictive_rate_parity_diff: -0.4496 - val_negative_predictive_rate_parity: 0.4496 - val_binary_specificity_parity_diff: 1.0000 - lr: 1.0000e-04\n",
      "sc\n",
      "Epoch 2/20\n",
      "123/123 [==============================] - ETA: 0s - loss: 0.5530 - accuracy: 0.7252 - true_positives: 1312.0000 - true_negatives: 1520.0000 - false_positives: 524.0000 - false_negatives: 549.0000 - true_positive_rate: 0.7050 - true_negative_rate: 0.7436 - false_positive_rate: 0.2564 - false_negative_rate: 0.2950 - positive_predicted_value: 0.7146 - false_discovery_rate: 0.2854 - negative_predicted_value: 0.7347 - false_omission_rate: 0.2653 - binary_demographic_parity_diff: -233.0000 - demographic_parity: 1836.0000 - binary_equalized_odds_diff: 0.0386 - binary_proportional_parity_diff: -0.0597 - proportional_parity: 0.4702 - binary_predictive_rate_parity_diff: -0.0201 - predictive_rate_parity: 0.7146 - binary_accuracy_parity_diff: 0.4504 - accuracy_parity: 0.7252 - false_negative_rate_parity_diff: -0.0386 - false_positive_rate_parity_diff: 0.0386 - binary_negative_predictive_rate_parity_diff: 0.0201 - negative_predictive_rate_parity: 0.7146 - binary_specificity_parity_diff: -0.0386"
     ]
    },
    {
     "name": "stderr",
     "output_type": "stream",
     "text": [
      "2022-12-06 22:57:29.096112: W tensorflow/core/framework/cpu_allocator_impl.cc:82] Allocation of 50331648000 exceeds 10% of free system memory.\n"
     ]
    },
    {
     "name": "stdout",
     "output_type": "stream",
     "text": [
      "123/123 [==============================] - 79s 644ms/step - loss: 0.5530 - accuracy: 0.7252 - true_positives: 1312.0000 - true_negatives: 1520.0000 - false_positives: 524.0000 - false_negatives: 549.0000 - true_positive_rate: 0.7050 - true_negative_rate: 0.7436 - false_positive_rate: 0.2564 - false_negative_rate: 0.2950 - positive_predicted_value: 0.7146 - false_discovery_rate: 0.2854 - negative_predicted_value: 0.7347 - false_omission_rate: 0.2653 - binary_demographic_parity_diff: -233.0000 - demographic_parity: 1836.0000 - binary_equalized_odds_diff: 0.0386 - binary_proportional_parity_diff: -0.0597 - proportional_parity: 0.4702 - binary_predictive_rate_parity_diff: -0.0201 - predictive_rate_parity: 0.7146 - binary_accuracy_parity_diff: 0.4504 - accuracy_parity: 0.7252 - false_negative_rate_parity_diff: -0.0386 - false_positive_rate_parity_diff: 0.0386 - binary_negative_predictive_rate_parity_diff: 0.0201 - negative_predictive_rate_parity: 0.7146 - binary_specificity_parity_diff: -0.0386 - val_loss: 0.6932 - val_accuracy: 0.4879 - val_true_positives: 484.0000 - val_true_negatives: 0.0000e+00 - val_false_positives: 508.0000 - val_false_negatives: 0.0000e+00 - val_true_positive_rate: 1.0000 - val_true_negative_rate: 0.0000e+00 - val_false_positive_rate: 1.0000 - val_false_negative_rate: 0.0000e+00 - val_positive_predicted_value: 0.4879 - val_false_discovery_rate: 0.5121 - val_negative_predicted_value: 0.0000e+00 - val_false_omission_rate: 0.0000e+00 - val_binary_demographic_parity_diff: 992.0000 - val_demographic_parity: 992.0000 - val_binary_equalized_odds_diff: -1.0000 - val_binary_proportional_parity_diff: 1.0000 - val_proportional_parity: 1.0000 - val_binary_predictive_rate_parity_diff: 0.4879 - val_predictive_rate_parity: 0.4879 - val_binary_accuracy_parity_diff: -0.0242 - val_accuracy_parity: 0.4879 - val_false_negative_rate_parity_diff: 1.0000 - val_false_positive_rate_parity_diff: -1.0000 - val_binary_negative_predictive_rate_parity_diff: -0.4879 - val_negative_predictive_rate_parity: 0.4879 - val_binary_specificity_parity_diff: 1.0000 - lr: 1.0000e-04\n",
      "sc\n",
      "Epoch 3/20\n",
      "123/123 [==============================] - ETA: 0s - loss: 0.4342 - accuracy: 0.7944 - true_positives: 1427.0000 - true_negatives: 1675.0000 - false_positives: 379.0000 - false_negatives: 424.0000 - true_positive_rate: 0.7709 - true_negative_rate: 0.8155 - false_positive_rate: 0.1845 - false_negative_rate: 0.2291 - positive_predicted_value: 0.7901 - false_discovery_rate: 0.2099 - negative_predicted_value: 0.7980 - false_omission_rate: 0.2020 - binary_demographic_parity_diff: -293.0000 - demographic_parity: 1806.0000 - binary_equalized_odds_diff: 0.0445 - binary_proportional_parity_diff: -0.0750 - proportional_parity: 0.4625 - binary_predictive_rate_parity_diff: -0.0079 - predictive_rate_parity: 0.7901 - binary_accuracy_parity_diff: 0.5887 - accuracy_parity: 0.7944 - false_negative_rate_parity_diff: -0.0445 - false_positive_rate_parity_diff: 0.0445 - binary_negative_predictive_rate_parity_diff: 0.0079 - negative_predictive_rate_parity: 0.7901 - binary_specificity_parity_diff: -0.0445"
     ]
    },
    {
     "name": "stderr",
     "output_type": "stream",
     "text": [
      "2022-12-06 22:58:48.004698: W tensorflow/core/framework/cpu_allocator_impl.cc:82] Allocation of 50331648000 exceeds 10% of free system memory.\n"
     ]
    },
    {
     "name": "stdout",
     "output_type": "stream",
     "text": [
      "123/123 [==============================] - 80s 652ms/step - loss: 0.4342 - accuracy: 0.7944 - true_positives: 1427.0000 - true_negatives: 1675.0000 - false_positives: 379.0000 - false_negatives: 424.0000 - true_positive_rate: 0.7709 - true_negative_rate: 0.8155 - false_positive_rate: 0.1845 - false_negative_rate: 0.2291 - positive_predicted_value: 0.7901 - false_discovery_rate: 0.2099 - negative_predicted_value: 0.7980 - false_omission_rate: 0.2020 - binary_demographic_parity_diff: -293.0000 - demographic_parity: 1806.0000 - binary_equalized_odds_diff: 0.0445 - binary_proportional_parity_diff: -0.0750 - proportional_parity: 0.4625 - binary_predictive_rate_parity_diff: -0.0079 - predictive_rate_parity: 0.7901 - binary_accuracy_parity_diff: 0.5887 - accuracy_parity: 0.7944 - false_negative_rate_parity_diff: -0.0445 - false_positive_rate_parity_diff: 0.0445 - binary_negative_predictive_rate_parity_diff: 0.0079 - negative_predictive_rate_parity: 0.7901 - binary_specificity_parity_diff: -0.0445 - val_loss: 0.6912 - val_accuracy: 0.5403 - val_true_positives: 464.0000 - val_true_negatives: 72.0000 - val_false_positives: 444.0000 - val_false_negatives: 12.0000 - val_true_positive_rate: 0.9748 - val_true_negative_rate: 0.1395 - val_false_positive_rate: 0.8605 - val_false_negative_rate: 0.0252 - val_positive_predicted_value: 0.5110 - val_false_discovery_rate: 0.4890 - val_negative_predicted_value: 0.8571 - val_false_omission_rate: 0.1429 - val_binary_demographic_parity_diff: 824.0000 - val_demographic_parity: 908.0000 - val_binary_equalized_odds_diff: -0.8353 - val_binary_proportional_parity_diff: 0.8306 - val_proportional_parity: 0.9153 - val_binary_predictive_rate_parity_diff: -0.3461 - val_predictive_rate_parity: 0.5110 - val_binary_accuracy_parity_diff: 0.0806 - val_accuracy_parity: 0.5403 - val_false_negative_rate_parity_diff: 0.8353 - val_false_positive_rate_parity_diff: -0.8353 - val_binary_negative_predictive_rate_parity_diff: 0.3461 - val_negative_predictive_rate_parity: 0.5110 - val_binary_specificity_parity_diff: 0.8353 - lr: 1.0000e-04\n",
      "sc\n",
      "Epoch 4/20\n",
      "123/123 [==============================] - ETA: 0s - loss: 0.3605 - accuracy: 0.8407 - true_positives: 1511.0000 - true_negatives: 1772.0000 - false_positives: 312.0000 - false_negatives: 310.0000 - true_positive_rate: 0.8298 - true_negative_rate: 0.8503 - false_positive_rate: 0.1497 - false_negative_rate: 0.1702 - positive_predicted_value: 0.8289 - false_discovery_rate: 0.1711 - negative_predicted_value: 0.8511 - false_omission_rate: 0.1489 - binary_demographic_parity_diff: -259.0000 - demographic_parity: 1823.0000 - binary_equalized_odds_diff: 0.0205 - binary_proportional_parity_diff: -0.0663 - proportional_parity: 0.4668 - binary_predictive_rate_parity_diff: -0.0223 - predictive_rate_parity: 0.8289 - binary_accuracy_parity_diff: 0.6814 - accuracy_parity: 0.8407 - false_negative_rate_parity_diff: -0.0205 - false_positive_rate_parity_diff: 0.0205 - binary_negative_predictive_rate_parity_diff: 0.0223 - negative_predictive_rate_parity: 0.8289 - binary_specificity_parity_diff: -0.0205"
     ]
    },
    {
     "name": "stderr",
     "output_type": "stream",
     "text": [
      "2022-12-06 23:00:08.110217: W tensorflow/core/framework/cpu_allocator_impl.cc:82] Allocation of 50331648000 exceeds 10% of free system memory.\n"
     ]
    },
    {
     "name": "stdout",
     "output_type": "stream",
     "text": [
      "123/123 [==============================] - 79s 642ms/step - loss: 0.3605 - accuracy: 0.8407 - true_positives: 1511.0000 - true_negatives: 1772.0000 - false_positives: 312.0000 - false_negatives: 310.0000 - true_positive_rate: 0.8298 - true_negative_rate: 0.8503 - false_positive_rate: 0.1497 - false_negative_rate: 0.1702 - positive_predicted_value: 0.8289 - false_discovery_rate: 0.1711 - negative_predicted_value: 0.8511 - false_omission_rate: 0.1489 - binary_demographic_parity_diff: -259.0000 - demographic_parity: 1823.0000 - binary_equalized_odds_diff: 0.0205 - binary_proportional_parity_diff: -0.0663 - proportional_parity: 0.4668 - binary_predictive_rate_parity_diff: -0.0223 - predictive_rate_parity: 0.8289 - binary_accuracy_parity_diff: 0.6814 - accuracy_parity: 0.8407 - false_negative_rate_parity_diff: -0.0205 - false_positive_rate_parity_diff: 0.0205 - binary_negative_predictive_rate_parity_diff: 0.0223 - negative_predictive_rate_parity: 0.8289 - binary_specificity_parity_diff: -0.0205 - val_loss: 0.6826 - val_accuracy: 0.6058 - val_true_positives: 430.0000 - val_true_negatives: 171.0000 - val_false_positives: 355.0000 - val_false_negatives: 36.0000 - val_true_positive_rate: 0.9227 - val_true_negative_rate: 0.3251 - val_false_positive_rate: 0.6749 - val_false_negative_rate: 0.0773 - val_positive_predicted_value: 0.5478 - val_false_discovery_rate: 0.4522 - val_negative_predicted_value: 0.8261 - val_false_omission_rate: 0.1739 - val_binary_demographic_parity_diff: 578.0000 - val_demographic_parity: 785.0000 - val_binary_equalized_odds_diff: -0.5977 - val_binary_proportional_parity_diff: 0.5827 - val_proportional_parity: 0.7913 - val_binary_predictive_rate_parity_diff: -0.2783 - val_predictive_rate_parity: 0.5478 - val_binary_accuracy_parity_diff: 0.2117 - val_accuracy_parity: 0.6058 - val_false_negative_rate_parity_diff: 0.5977 - val_false_positive_rate_parity_diff: -0.5977 - val_binary_negative_predictive_rate_parity_diff: 0.2783 - val_negative_predictive_rate_parity: 0.5478 - val_binary_specificity_parity_diff: 0.5977 - lr: 1.0000e-04\n",
      "sc\n",
      "Epoch 5/20\n",
      "123/123 [==============================] - ETA: 0s - loss: 0.2905 - accuracy: 0.8840 - true_positives: 1633.0000 - true_negatives: 1819.0000 - false_positives: 214.0000 - false_negatives: 239.0000 - true_positive_rate: 0.8723 - true_negative_rate: 0.8947 - false_positive_rate: 0.1053 - false_negative_rate: 0.1277 - positive_predicted_value: 0.8841 - false_discovery_rate: 0.1159 - negative_predicted_value: 0.8839 - false_omission_rate: 0.1161 - binary_demographic_parity_diff: -211.0000 - demographic_parity: 1847.0000 - binary_equalized_odds_diff: 0.0224 - binary_proportional_parity_diff: -0.0540 - proportional_parity: 0.4730 - binary_predictive_rate_parity_diff: 2.6858e-04 - predictive_rate_parity: 0.8841 - binary_accuracy_parity_diff: 0.7680 - accuracy_parity: 0.8840 - false_negative_rate_parity_diff: -0.0224 - false_positive_rate_parity_diff: 0.0224 - binary_negative_predictive_rate_parity_diff: -2.6858e-04 - negative_predictive_rate_parity: 0.8841 - binary_specificity_parity_diff: -0.0224"
     ]
    },
    {
     "name": "stderr",
     "output_type": "stream",
     "text": [
      "2022-12-06 23:01:30.670138: W tensorflow/core/framework/cpu_allocator_impl.cc:82] Allocation of 50331648000 exceeds 10% of free system memory.\n"
     ]
    },
    {
     "name": "stdout",
     "output_type": "stream",
     "text": [
      "123/123 [==============================] - 83s 676ms/step - loss: 0.2905 - accuracy: 0.8840 - true_positives: 1633.0000 - true_negatives: 1819.0000 - false_positives: 214.0000 - false_negatives: 239.0000 - true_positive_rate: 0.8723 - true_negative_rate: 0.8947 - false_positive_rate: 0.1053 - false_negative_rate: 0.1277 - positive_predicted_value: 0.8841 - false_discovery_rate: 0.1159 - negative_predicted_value: 0.8839 - false_omission_rate: 0.1161 - binary_demographic_parity_diff: -211.0000 - demographic_parity: 1847.0000 - binary_equalized_odds_diff: 0.0224 - binary_proportional_parity_diff: -0.0540 - proportional_parity: 0.4730 - binary_predictive_rate_parity_diff: 2.6858e-04 - predictive_rate_parity: 0.8841 - binary_accuracy_parity_diff: 0.7680 - accuracy_parity: 0.8840 - false_negative_rate_parity_diff: -0.0224 - false_positive_rate_parity_diff: 0.0224 - binary_negative_predictive_rate_parity_diff: -2.6858e-04 - negative_predictive_rate_parity: 0.8841 - binary_specificity_parity_diff: -0.0224 - val_loss: 0.5802 - val_accuracy: 0.8175 - val_true_positives: 342.0000 - val_true_negatives: 469.0000 - val_false_positives: 77.0000 - val_false_negatives: 104.0000 - val_true_positive_rate: 0.7668 - val_true_negative_rate: 0.8590 - val_false_positive_rate: 0.1410 - val_false_negative_rate: 0.2332 - val_positive_predicted_value: 0.8162 - val_false_discovery_rate: 0.1838 - val_negative_predicted_value: 0.8185 - val_false_omission_rate: 0.1815 - val_binary_demographic_parity_diff: -154.0000 - val_demographic_parity: 419.0000 - val_binary_equalized_odds_diff: 0.0922 - val_binary_proportional_parity_diff: -0.1552 - val_proportional_parity: 0.4224 - val_binary_predictive_rate_parity_diff: -0.0023 - val_predictive_rate_parity: 0.8162 - val_binary_accuracy_parity_diff: 0.6351 - val_accuracy_parity: 0.8175 - val_false_negative_rate_parity_diff: -0.0922 - val_false_positive_rate_parity_diff: 0.0922 - val_binary_negative_predictive_rate_parity_diff: 0.0023 - val_negative_predictive_rate_parity: 0.8162 - val_binary_specificity_parity_diff: -0.0922 - lr: 1.0000e-04\n",
      "sc\n",
      "Epoch 6/20\n",
      "123/123 [==============================] - 79s 643ms/step - loss: 0.1887 - accuracy: 0.9311 - true_positives: 1721.0000 - true_negatives: 1915.0000 - false_positives: 120.0000 - false_negatives: 149.0000 - true_positive_rate: 0.9203 - true_negative_rate: 0.9410 - false_positive_rate: 0.0590 - false_negative_rate: 0.0797 - positive_predicted_value: 0.9348 - false_discovery_rate: 0.0652 - negative_predicted_value: 0.9278 - false_omission_rate: 0.0722 - binary_demographic_parity_diff: -223.0000 - demographic_parity: 1841.0000 - binary_equalized_odds_diff: 0.0207 - binary_proportional_parity_diff: -0.0571 - proportional_parity: 0.4714 - binary_predictive_rate_parity_diff: 0.0070 - predictive_rate_parity: 0.9348 - binary_accuracy_parity_diff: 0.8622 - accuracy_parity: 0.9311 - false_negative_rate_parity_diff: -0.0207 - false_positive_rate_parity_diff: 0.0207 - binary_negative_predictive_rate_parity_diff: -0.0070 - negative_predictive_rate_parity: 0.9348 - binary_specificity_parity_diff: -0.0207 - val_loss: 0.2919 - val_accuracy: 0.9486 - val_true_positives: 436.0000 - val_true_negatives: 505.0000 - val_false_positives: 26.0000 - val_false_negatives: 25.0000 - val_true_positive_rate: 0.9458 - val_true_negative_rate: 0.9510 - val_false_positive_rate: 0.0490 - val_false_negative_rate: 0.0542 - val_positive_predicted_value: 0.9437 - val_false_discovery_rate: 0.0563 - val_negative_predicted_value: 0.9528 - val_false_omission_rate: 0.0472 - val_binary_demographic_parity_diff: -68.0000 - val_demographic_parity: 462.0000 - val_binary_equalized_odds_diff: 0.0053 - val_binary_proportional_parity_diff: -0.0685 - val_proportional_parity: 0.4657 - val_binary_predictive_rate_parity_diff: -0.0091 - val_predictive_rate_parity: 0.9437 - val_binary_accuracy_parity_diff: 0.8972 - val_accuracy_parity: 0.9486 - val_false_negative_rate_parity_diff: -0.0053 - val_false_positive_rate_parity_diff: 0.0053 - val_binary_negative_predictive_rate_parity_diff: 0.0091 - val_negative_predictive_rate_parity: 0.9437 - val_binary_specificity_parity_diff: -0.0053 - lr: 6.0653e-05\n",
      "sc\n",
      "Epoch 7/20\n",
      " 36/123 [=======>......................] - ETA: 42s - loss: 0.1268 - accuracy: 0.9609 - true_positives: 545.0000 - true_negatives: 562.0000 - false_positives: 20.0000 - false_negatives: 25.0000 - true_positive_rate: 0.9561 - true_negative_rate: 0.9656 - false_positive_rate: 0.0344 - false_negative_rate: 0.0439 - positive_predicted_value: 0.9646 - false_discovery_rate: 0.0354 - negative_predicted_value: 0.9574 - false_omission_rate: 0.0426 - binary_demographic_parity_diff: -22.0000 - demographic_parity: 565.0000 - binary_equalized_odds_diff: 0.0095 - binary_proportional_parity_diff: -0.0191 - proportional_parity: 0.4905 - binary_predictive_rate_parity_diff: 0.0072 - predictive_rate_parity: 0.9646 - binary_accuracy_parity_diff: 0.9219 - accuracy_parity: 0.9609 - false_negative_rate_parity_diff: -0.0095 - false_positive_rate_parity_diff: 0.0095 - binary_negative_predictive_rate_parity_diff: -0.0072 - negative_predictive_rate_parity: 0.9646 - binary_specificity_parity_diff: -0.0095"
     ]
    },
    {
     "ename": "KeyboardInterrupt",
     "evalue": "",
     "output_type": "error",
     "traceback": [
      "\u001b[0;31m---------------------------------------------------------------------------\u001b[0m",
      "\u001b[0;31mKeyboardInterrupt\u001b[0m                         Traceback (most recent call last)",
      "\u001b[0;32m/local/tmp.692505/ipykernel_2426635/1580463948.py\u001b[0m in \u001b[0;36m<module>\u001b[0;34m\u001b[0m\n\u001b[1;32m      3\u001b[0m \u001b[0;34m\u001b[0m\u001b[0m\n\u001b[1;32m      4\u001b[0m \u001b[0;32mwith\u001b[0m \u001b[0mstrategy\u001b[0m\u001b[0;34m.\u001b[0m\u001b[0mscope\u001b[0m\u001b[0;34m(\u001b[0m\u001b[0;34m)\u001b[0m\u001b[0;34m:\u001b[0m\u001b[0;34m\u001b[0m\u001b[0;34m\u001b[0m\u001b[0m\n\u001b[0;32m----> 5\u001b[0;31m     \u001b[0mhistory\u001b[0m \u001b[0;34m=\u001b[0m \u001b[0mev\u001b[0m\u001b[0;34m.\u001b[0m\u001b[0mkfoldCrossValidation\u001b[0m\u001b[0;34m(\u001b[0m\u001b[0;34m\"/mimer/NOBACKUP/groups/snic2022-22-1091/museumFaces\"\u001b[0m\u001b[0;34m,\u001b[0m \u001b[0mm\u001b[0m\u001b[0;34m.\u001b[0m\u001b[0mbuild_model\u001b[0m\u001b[0;34m(\u001b[0m\u001b[0;32mFalse\u001b[0m\u001b[0;34m,\u001b[0m \u001b[0;34m(\u001b[0m\u001b[0;36m299\u001b[0m\u001b[0;34m,\u001b[0m\u001b[0;36m299\u001b[0m\u001b[0;34m)\u001b[0m\u001b[0;34m,\u001b[0m \u001b[0;34m\"Xception\"\u001b[0m\u001b[0;34m)\u001b[0m\u001b[0;34m,\u001b[0m \u001b[0mpreprocess\u001b[0m\u001b[0;34m,\u001b[0m \u001b[0;36m1e-4\u001b[0m\u001b[0;34m,\u001b[0m \u001b[0;34m(\u001b[0m\u001b[0;36m299\u001b[0m\u001b[0;34m,\u001b[0m\u001b[0;36m299\u001b[0m\u001b[0;34m)\u001b[0m\u001b[0;34m,\u001b[0m \u001b[0;36m5\u001b[0m\u001b[0;34m)\u001b[0m\u001b[0;34m\u001b[0m\u001b[0;34m\u001b[0m\u001b[0m\n\u001b[0m",
      "\u001b[0;32m~/CDHU-DS_course_project_fall2022/model/evaluation.py\u001b[0m in \u001b[0;36mkfoldCrossValidation\u001b[0;34m(data_directory, kfoldmodel, preprocess, learning_rate, image_size, nr_of_splits, epochs, class_weight)\u001b[0m\n\u001b[1;32m    245\u001b[0m             \u001b[0mclass_weights\u001b[0m \u001b[0;34m=\u001b[0m \u001b[0;32mNone\u001b[0m\u001b[0;34m\u001b[0m\u001b[0;34m\u001b[0m\u001b[0m\n\u001b[1;32m    246\u001b[0m \u001b[0;34m\u001b[0m\u001b[0m\n\u001b[0;32m--> 247\u001b[0;31m         \u001b[0mtest_results\u001b[0m \u001b[0;34m=\u001b[0m \u001b[0mmodel\u001b[0m\u001b[0;34m.\u001b[0m\u001b[0mfit\u001b[0m\u001b[0;34m(\u001b[0m\u001b[0mds_train_fold\u001b[0m\u001b[0;34m,\u001b[0m \u001b[0mclass_weight\u001b[0m\u001b[0;34m=\u001b[0m\u001b[0mclass_weight\u001b[0m\u001b[0;34m,\u001b[0m \u001b[0mcallbacks\u001b[0m\u001b[0;34m=\u001b[0m\u001b[0;34m[\u001b[0m\u001b[0mschedulercb\u001b[0m\u001b[0;34m,\u001b[0m\u001b[0mtensorboard_callback\u001b[0m\u001b[0;34m,\u001b[0m\u001b[0mearlystop_callback\u001b[0m\u001b[0;34m]\u001b[0m\u001b[0;34m,\u001b[0m \u001b[0mepochs\u001b[0m\u001b[0;34m=\u001b[0m\u001b[0mepochs\u001b[0m\u001b[0;34m,\u001b[0m \u001b[0mvalidation_data\u001b[0m\u001b[0;34m=\u001b[0m\u001b[0mds_val_fold\u001b[0m\u001b[0;34m)\u001b[0m\u001b[0;34m\u001b[0m\u001b[0;34m\u001b[0m\u001b[0m\n\u001b[0m\u001b[1;32m    248\u001b[0m \u001b[0;34m\u001b[0m\u001b[0m\n\u001b[1;32m    249\u001b[0m         \u001b[0mhistory\u001b[0m\u001b[0;34m.\u001b[0m\u001b[0mappend\u001b[0m\u001b[0;34m(\u001b[0m\u001b[0mtest_results\u001b[0m\u001b[0;34m.\u001b[0m\u001b[0mhistory\u001b[0m\u001b[0;34m)\u001b[0m\u001b[0;34m\u001b[0m\u001b[0;34m\u001b[0m\u001b[0m\n",
      "\u001b[0;32m/apps/Arch/software/TensorFlow/2.7.1-foss-2021b-CUDA-11.4.1/lib/python3.9/site-packages/keras/utils/traceback_utils.py\u001b[0m in \u001b[0;36merror_handler\u001b[0;34m(*args, **kwargs)\u001b[0m\n\u001b[1;32m     62\u001b[0m     \u001b[0mfiltered_tb\u001b[0m \u001b[0;34m=\u001b[0m \u001b[0;32mNone\u001b[0m\u001b[0;34m\u001b[0m\u001b[0;34m\u001b[0m\u001b[0m\n\u001b[1;32m     63\u001b[0m     \u001b[0;32mtry\u001b[0m\u001b[0;34m:\u001b[0m\u001b[0;34m\u001b[0m\u001b[0;34m\u001b[0m\u001b[0m\n\u001b[0;32m---> 64\u001b[0;31m       \u001b[0;32mreturn\u001b[0m \u001b[0mfn\u001b[0m\u001b[0;34m(\u001b[0m\u001b[0;34m*\u001b[0m\u001b[0margs\u001b[0m\u001b[0;34m,\u001b[0m \u001b[0;34m**\u001b[0m\u001b[0mkwargs\u001b[0m\u001b[0;34m)\u001b[0m\u001b[0;34m\u001b[0m\u001b[0;34m\u001b[0m\u001b[0m\n\u001b[0m\u001b[1;32m     65\u001b[0m     \u001b[0;32mexcept\u001b[0m \u001b[0mException\u001b[0m \u001b[0;32mas\u001b[0m \u001b[0me\u001b[0m\u001b[0;34m:\u001b[0m  \u001b[0;31m# pylint: disable=broad-except\u001b[0m\u001b[0;34m\u001b[0m\u001b[0;34m\u001b[0m\u001b[0m\n\u001b[1;32m     66\u001b[0m       \u001b[0mfiltered_tb\u001b[0m \u001b[0;34m=\u001b[0m \u001b[0m_process_traceback_frames\u001b[0m\u001b[0;34m(\u001b[0m\u001b[0me\u001b[0m\u001b[0;34m.\u001b[0m\u001b[0m__traceback__\u001b[0m\u001b[0;34m)\u001b[0m\u001b[0;34m\u001b[0m\u001b[0;34m\u001b[0m\u001b[0m\n",
      "\u001b[0;32m/apps/Arch/software/TensorFlow/2.7.1-foss-2021b-CUDA-11.4.1/lib/python3.9/site-packages/keras/engine/training.py\u001b[0m in \u001b[0;36mfit\u001b[0;34m(self, x, y, batch_size, epochs, verbose, callbacks, validation_split, validation_data, shuffle, class_weight, sample_weight, initial_epoch, steps_per_epoch, validation_steps, validation_batch_size, validation_freq, max_queue_size, workers, use_multiprocessing)\u001b[0m\n\u001b[1;32m   1214\u001b[0m                 _r=1):\n\u001b[1;32m   1215\u001b[0m               \u001b[0mcallbacks\u001b[0m\u001b[0;34m.\u001b[0m\u001b[0mon_train_batch_begin\u001b[0m\u001b[0;34m(\u001b[0m\u001b[0mstep\u001b[0m\u001b[0;34m)\u001b[0m\u001b[0;34m\u001b[0m\u001b[0;34m\u001b[0m\u001b[0m\n\u001b[0;32m-> 1216\u001b[0;31m               \u001b[0mtmp_logs\u001b[0m \u001b[0;34m=\u001b[0m \u001b[0mself\u001b[0m\u001b[0;34m.\u001b[0m\u001b[0mtrain_function\u001b[0m\u001b[0;34m(\u001b[0m\u001b[0miterator\u001b[0m\u001b[0;34m)\u001b[0m\u001b[0;34m\u001b[0m\u001b[0;34m\u001b[0m\u001b[0m\n\u001b[0m\u001b[1;32m   1217\u001b[0m               \u001b[0;32mif\u001b[0m \u001b[0mdata_handler\u001b[0m\u001b[0;34m.\u001b[0m\u001b[0mshould_sync\u001b[0m\u001b[0;34m:\u001b[0m\u001b[0;34m\u001b[0m\u001b[0;34m\u001b[0m\u001b[0m\n\u001b[1;32m   1218\u001b[0m                 \u001b[0mcontext\u001b[0m\u001b[0;34m.\u001b[0m\u001b[0masync_wait\u001b[0m\u001b[0;34m(\u001b[0m\u001b[0;34m)\u001b[0m\u001b[0;34m\u001b[0m\u001b[0;34m\u001b[0m\u001b[0m\n",
      "\u001b[0;32m/apps/Arch/software/TensorFlow/2.7.1-foss-2021b-CUDA-11.4.1/lib/python3.9/site-packages/tensorflow/python/util/traceback_utils.py\u001b[0m in \u001b[0;36merror_handler\u001b[0;34m(*args, **kwargs)\u001b[0m\n\u001b[1;32m    148\u001b[0m     \u001b[0mfiltered_tb\u001b[0m \u001b[0;34m=\u001b[0m \u001b[0;32mNone\u001b[0m\u001b[0;34m\u001b[0m\u001b[0;34m\u001b[0m\u001b[0m\n\u001b[1;32m    149\u001b[0m     \u001b[0;32mtry\u001b[0m\u001b[0;34m:\u001b[0m\u001b[0;34m\u001b[0m\u001b[0;34m\u001b[0m\u001b[0m\n\u001b[0;32m--> 150\u001b[0;31m       \u001b[0;32mreturn\u001b[0m \u001b[0mfn\u001b[0m\u001b[0;34m(\u001b[0m\u001b[0;34m*\u001b[0m\u001b[0margs\u001b[0m\u001b[0;34m,\u001b[0m \u001b[0;34m**\u001b[0m\u001b[0mkwargs\u001b[0m\u001b[0;34m)\u001b[0m\u001b[0;34m\u001b[0m\u001b[0;34m\u001b[0m\u001b[0m\n\u001b[0m\u001b[1;32m    151\u001b[0m     \u001b[0;32mexcept\u001b[0m \u001b[0mException\u001b[0m \u001b[0;32mas\u001b[0m \u001b[0me\u001b[0m\u001b[0;34m:\u001b[0m\u001b[0;34m\u001b[0m\u001b[0;34m\u001b[0m\u001b[0m\n\u001b[1;32m    152\u001b[0m       \u001b[0mfiltered_tb\u001b[0m \u001b[0;34m=\u001b[0m \u001b[0m_process_traceback_frames\u001b[0m\u001b[0;34m(\u001b[0m\u001b[0me\u001b[0m\u001b[0;34m.\u001b[0m\u001b[0m__traceback__\u001b[0m\u001b[0;34m)\u001b[0m\u001b[0;34m\u001b[0m\u001b[0;34m\u001b[0m\u001b[0m\n",
      "\u001b[0;32m/apps/Arch/software/TensorFlow/2.7.1-foss-2021b-CUDA-11.4.1/lib/python3.9/site-packages/tensorflow/python/eager/def_function.py\u001b[0m in \u001b[0;36m__call__\u001b[0;34m(self, *args, **kwds)\u001b[0m\n\u001b[1;32m    908\u001b[0m \u001b[0;34m\u001b[0m\u001b[0m\n\u001b[1;32m    909\u001b[0m       \u001b[0;32mwith\u001b[0m \u001b[0mOptionalXlaContext\u001b[0m\u001b[0;34m(\u001b[0m\u001b[0mself\u001b[0m\u001b[0;34m.\u001b[0m\u001b[0m_jit_compile\u001b[0m\u001b[0;34m)\u001b[0m\u001b[0;34m:\u001b[0m\u001b[0;34m\u001b[0m\u001b[0;34m\u001b[0m\u001b[0m\n\u001b[0;32m--> 910\u001b[0;31m         \u001b[0mresult\u001b[0m \u001b[0;34m=\u001b[0m \u001b[0mself\u001b[0m\u001b[0;34m.\u001b[0m\u001b[0m_call\u001b[0m\u001b[0;34m(\u001b[0m\u001b[0;34m*\u001b[0m\u001b[0margs\u001b[0m\u001b[0;34m,\u001b[0m \u001b[0;34m**\u001b[0m\u001b[0mkwds\u001b[0m\u001b[0;34m)\u001b[0m\u001b[0;34m\u001b[0m\u001b[0;34m\u001b[0m\u001b[0m\n\u001b[0m\u001b[1;32m    911\u001b[0m \u001b[0;34m\u001b[0m\u001b[0m\n\u001b[1;32m    912\u001b[0m       \u001b[0mnew_tracing_count\u001b[0m \u001b[0;34m=\u001b[0m \u001b[0mself\u001b[0m\u001b[0;34m.\u001b[0m\u001b[0mexperimental_get_tracing_count\u001b[0m\u001b[0;34m(\u001b[0m\u001b[0;34m)\u001b[0m\u001b[0;34m\u001b[0m\u001b[0;34m\u001b[0m\u001b[0m\n",
      "\u001b[0;32m/apps/Arch/software/TensorFlow/2.7.1-foss-2021b-CUDA-11.4.1/lib/python3.9/site-packages/tensorflow/python/eager/def_function.py\u001b[0m in \u001b[0;36m_call\u001b[0;34m(self, *args, **kwds)\u001b[0m\n\u001b[1;32m    940\u001b[0m       \u001b[0;31m# In this case we have created variables on the first call, so we run the\u001b[0m\u001b[0;34m\u001b[0m\u001b[0;34m\u001b[0m\u001b[0;34m\u001b[0m\u001b[0m\n\u001b[1;32m    941\u001b[0m       \u001b[0;31m# defunned version which is guaranteed to never create variables.\u001b[0m\u001b[0;34m\u001b[0m\u001b[0;34m\u001b[0m\u001b[0;34m\u001b[0m\u001b[0m\n\u001b[0;32m--> 942\u001b[0;31m       \u001b[0;32mreturn\u001b[0m \u001b[0mself\u001b[0m\u001b[0;34m.\u001b[0m\u001b[0m_stateless_fn\u001b[0m\u001b[0;34m(\u001b[0m\u001b[0;34m*\u001b[0m\u001b[0margs\u001b[0m\u001b[0;34m,\u001b[0m \u001b[0;34m**\u001b[0m\u001b[0mkwds\u001b[0m\u001b[0;34m)\u001b[0m  \u001b[0;31m# pylint: disable=not-callable\u001b[0m\u001b[0;34m\u001b[0m\u001b[0;34m\u001b[0m\u001b[0m\n\u001b[0m\u001b[1;32m    943\u001b[0m     \u001b[0;32melif\u001b[0m \u001b[0mself\u001b[0m\u001b[0;34m.\u001b[0m\u001b[0m_stateful_fn\u001b[0m \u001b[0;32mis\u001b[0m \u001b[0;32mnot\u001b[0m \u001b[0;32mNone\u001b[0m\u001b[0;34m:\u001b[0m\u001b[0;34m\u001b[0m\u001b[0;34m\u001b[0m\u001b[0m\n\u001b[1;32m    944\u001b[0m       \u001b[0;31m# Release the lock early so that multiple threads can perform the call\u001b[0m\u001b[0;34m\u001b[0m\u001b[0;34m\u001b[0m\u001b[0;34m\u001b[0m\u001b[0m\n",
      "\u001b[0;32m/apps/Arch/software/TensorFlow/2.7.1-foss-2021b-CUDA-11.4.1/lib/python3.9/site-packages/tensorflow/python/eager/function.py\u001b[0m in \u001b[0;36m__call__\u001b[0;34m(self, *args, **kwargs)\u001b[0m\n\u001b[1;32m   3128\u001b[0m       (graph_function,\n\u001b[1;32m   3129\u001b[0m        filtered_flat_args) = self._maybe_define_function(args, kwargs)\n\u001b[0;32m-> 3130\u001b[0;31m     return graph_function._call_flat(\n\u001b[0m\u001b[1;32m   3131\u001b[0m         filtered_flat_args, captured_inputs=graph_function.captured_inputs)  # pylint: disable=protected-access\n\u001b[1;32m   3132\u001b[0m \u001b[0;34m\u001b[0m\u001b[0m\n",
      "\u001b[0;32m/apps/Arch/software/TensorFlow/2.7.1-foss-2021b-CUDA-11.4.1/lib/python3.9/site-packages/tensorflow/python/eager/function.py\u001b[0m in \u001b[0;36m_call_flat\u001b[0;34m(self, args, captured_inputs, cancellation_manager)\u001b[0m\n\u001b[1;32m   1957\u001b[0m         and executing_eagerly):\n\u001b[1;32m   1958\u001b[0m       \u001b[0;31m# No tape is watching; skip to running the function.\u001b[0m\u001b[0;34m\u001b[0m\u001b[0;34m\u001b[0m\u001b[0;34m\u001b[0m\u001b[0m\n\u001b[0;32m-> 1959\u001b[0;31m       return self._build_call_outputs(self._inference_function.call(\n\u001b[0m\u001b[1;32m   1960\u001b[0m           ctx, args, cancellation_manager=cancellation_manager))\n\u001b[1;32m   1961\u001b[0m     forward_backward = self._select_forward_and_backward_functions(\n",
      "\u001b[0;32m/apps/Arch/software/TensorFlow/2.7.1-foss-2021b-CUDA-11.4.1/lib/python3.9/site-packages/tensorflow/python/eager/function.py\u001b[0m in \u001b[0;36mcall\u001b[0;34m(self, ctx, args, cancellation_manager)\u001b[0m\n\u001b[1;32m    596\u001b[0m       \u001b[0;32mwith\u001b[0m \u001b[0m_InterpolateFunctionError\u001b[0m\u001b[0;34m(\u001b[0m\u001b[0mself\u001b[0m\u001b[0;34m)\u001b[0m\u001b[0;34m:\u001b[0m\u001b[0;34m\u001b[0m\u001b[0;34m\u001b[0m\u001b[0m\n\u001b[1;32m    597\u001b[0m         \u001b[0;32mif\u001b[0m \u001b[0mcancellation_manager\u001b[0m \u001b[0;32mis\u001b[0m \u001b[0;32mNone\u001b[0m\u001b[0;34m:\u001b[0m\u001b[0;34m\u001b[0m\u001b[0;34m\u001b[0m\u001b[0m\n\u001b[0;32m--> 598\u001b[0;31m           outputs = execute.execute(\n\u001b[0m\u001b[1;32m    599\u001b[0m               \u001b[0mstr\u001b[0m\u001b[0;34m(\u001b[0m\u001b[0mself\u001b[0m\u001b[0;34m.\u001b[0m\u001b[0msignature\u001b[0m\u001b[0;34m.\u001b[0m\u001b[0mname\u001b[0m\u001b[0;34m)\u001b[0m\u001b[0;34m,\u001b[0m\u001b[0;34m\u001b[0m\u001b[0;34m\u001b[0m\u001b[0m\n\u001b[1;32m    600\u001b[0m               \u001b[0mnum_outputs\u001b[0m\u001b[0;34m=\u001b[0m\u001b[0mself\u001b[0m\u001b[0;34m.\u001b[0m\u001b[0m_num_outputs\u001b[0m\u001b[0;34m,\u001b[0m\u001b[0;34m\u001b[0m\u001b[0;34m\u001b[0m\u001b[0m\n",
      "\u001b[0;32m/apps/Arch/software/TensorFlow/2.7.1-foss-2021b-CUDA-11.4.1/lib/python3.9/site-packages/tensorflow/python/eager/execute.py\u001b[0m in \u001b[0;36mquick_execute\u001b[0;34m(op_name, num_outputs, inputs, attrs, ctx, name)\u001b[0m\n\u001b[1;32m     56\u001b[0m   \u001b[0;32mtry\u001b[0m\u001b[0;34m:\u001b[0m\u001b[0;34m\u001b[0m\u001b[0;34m\u001b[0m\u001b[0m\n\u001b[1;32m     57\u001b[0m     \u001b[0mctx\u001b[0m\u001b[0;34m.\u001b[0m\u001b[0mensure_initialized\u001b[0m\u001b[0;34m(\u001b[0m\u001b[0;34m)\u001b[0m\u001b[0;34m\u001b[0m\u001b[0;34m\u001b[0m\u001b[0m\n\u001b[0;32m---> 58\u001b[0;31m     tensors = pywrap_tfe.TFE_Py_Execute(ctx._handle, device_name, op_name,\n\u001b[0m\u001b[1;32m     59\u001b[0m                                         inputs, attrs, num_outputs)\n\u001b[1;32m     60\u001b[0m   \u001b[0;32mexcept\u001b[0m \u001b[0mcore\u001b[0m\u001b[0;34m.\u001b[0m\u001b[0m_NotOkStatusException\u001b[0m \u001b[0;32mas\u001b[0m \u001b[0me\u001b[0m\u001b[0;34m:\u001b[0m\u001b[0;34m\u001b[0m\u001b[0;34m\u001b[0m\u001b[0m\n",
      "\u001b[0;31mKeyboardInterrupt\u001b[0m: "
     ]
    }
   ],
   "source": [
    "preprocess = tf.keras.applications.xception.preprocess_input\n",
    "strategy = tf.distribute.MirroredStrategy()\n",
    "\n",
    "with strategy.scope():\n",
    "    history = ev.kfoldCrossValidation(\"/mimer/NOBACKUP/groups/snic2022-22-1091/museumFaces\", m.build_model(False, (299,299), \"Xception\"), preprocess, 1e-4, (299,299), 5)"
   ]
  },
  {
   "cell_type": "code",
   "execution_count": null,
   "id": "ab4b704a",
   "metadata": {},
   "outputs": [],
   "source": []
  },
  {
   "cell_type": "markdown",
   "id": "7a7de377",
   "metadata": {},
   "source": [
    "## Test Xception without Transfer Learning (unweighted) "
   ]
  },
  {
   "cell_type": "code",
   "execution_count": null,
   "id": "fbd9378b",
   "metadata": {},
   "outputs": [
    {
     "name": "stdout",
     "output_type": "stream",
     "text": [
      "Weight for class 0: 0.95\n",
      "Weight for class 1: 1.05\n",
      "INFO:tensorflow:Using MirroredStrategy with devices ('/job:localhost/replica:0/task:0/device:GPU:0',)\n",
      "sc\n",
      "Epoch 1/20\n",
      "123/123 [==============================] - 125s 758ms/step - loss: 0.7106 - accuracy: 0.5812 - true_positives_21: 1017.0000 - true_negatives_14: 1259.0000 - false_positives_17: 793.0000 - false_negatives_18: 847.0000 - true_positive_rate: 0.5456 - true_negative_rate: 0.6135 - false_positive_rate: 0.3865 - false_negative_rate: 0.4544 - positive_predicted_value: 0.5619 - false_discovery_rate: 0.4381 - negative_predicted_value: 0.5978 - false_omission_rate: 0.4022 - binary_demographic_parity_diff: -296.0000 - demographic_parity: 1810.0000 - binary_equalized_odds_diff: 0.0679 - binary_proportional_parity_diff: -0.0756 - proportional_parity: 0.4622 - binary_predictive_rate_parity_diff: -0.0359 - predictive_rate_parity: 0.5619 - binary_accuracy_parity_diff: 0.1624 - accuracy_parity: 0.5812 - false_negative_rate_parity_diff: -0.0679 - false_positive_rate_parity_diff: 0.0679 - binary_negative_predictive_rate_parity_diff: 0.0359 - negative_predictive_rate_parity: 0.5619 - binary_specificity_parity_diff: -0.0679 - val_loss: 0.6933 - val_accuracy: 0.4765 - val_true_positives_21: 233.0000 - val_true_negatives_14: 0.0000e+00 - val_false_positives_17: 256.0000 - val_false_negatives_18: 0.0000e+00 - val_true_positive_rate: 1.0000 - val_true_negative_rate: 0.0000e+00 - val_false_positive_rate: 1.0000 - val_false_negative_rate: 0.0000e+00 - val_positive_predicted_value: 0.4765 - val_false_discovery_rate: 0.5235 - val_negative_predicted_value: 0.0000e+00 - val_false_omission_rate: 0.0000e+00 - val_binary_demographic_parity_diff: 489.0000 - val_demographic_parity: 489.0000 - val_binary_equalized_odds_diff: -1.0000 - val_binary_proportional_parity_diff: 1.0000 - val_proportional_parity: 1.0000 - val_binary_predictive_rate_parity_diff: 0.4765 - val_predictive_rate_parity: 0.4765 - val_binary_accuracy_parity_diff: -0.0470 - val_accuracy_parity: 0.4765 - val_false_negative_rate_parity_diff: 1.0000 - val_false_positive_rate_parity_diff: -1.0000 - val_binary_negative_predictive_rate_parity_diff: -0.4765 - val_negative_predictive_rate_parity: 0.4765 - val_binary_specificity_parity_diff: 1.0000 - lr: 1.0000e-05\n",
      "sc\n",
      "Epoch 2/20\n",
      "123/123 [==============================] - 79s 644ms/step - loss: 0.5816 - accuracy: 0.6900 - true_positives_21: 1227.0000 - true_negatives_14: 1475.0000 - false_positives_17: 577.0000 - false_negatives_18: 637.0000 - true_positive_rate: 0.6583 - true_negative_rate: 0.7188 - false_positive_rate: 0.2812 - false_negative_rate: 0.3417 - positive_predicted_value: 0.6802 - false_discovery_rate: 0.3198 - negative_predicted_value: 0.6984 - false_omission_rate: 0.3016 - binary_demographic_parity_diff: -308.0000 - demographic_parity: 1804.0000 - binary_equalized_odds_diff: 0.0605 - binary_proportional_parity_diff: -0.0787 - proportional_parity: 0.4607 - binary_predictive_rate_parity_diff: -0.0182 - predictive_rate_parity: 0.6802 - binary_accuracy_parity_diff: 0.3800 - accuracy_parity: 0.6900 - false_negative_rate_parity_diff: -0.0605 - false_positive_rate_parity_diff: 0.0605 - binary_negative_predictive_rate_parity_diff: 0.0182 - negative_predictive_rate_parity: 0.6802 - binary_specificity_parity_diff: -0.0605 - val_loss: 0.6927 - val_accuracy: 0.5112 - val_true_positives_21: 0.0000e+00 - val_true_negatives_14: 250.0000 - val_false_positives_17: 0.0000e+00 - val_false_negatives_18: 239.0000 - val_true_positive_rate: 0.0000e+00 - val_true_negative_rate: 1.0000 - val_false_positive_rate: 0.0000e+00 - val_false_negative_rate: 1.0000 - val_positive_predicted_value: 0.0000e+00 - val_false_discovery_rate: 0.0000e+00 - val_negative_predicted_value: 0.5112 - val_false_omission_rate: 0.4888 - val_binary_demographic_parity_diff: -489.0000 - val_demographic_parity: 1.0000e-07 - val_binary_equalized_odds_diff: 1.0000 - val_binary_proportional_parity_diff: -1.0000 - val_proportional_parity: 0.0000e+00 - val_binary_predictive_rate_parity_diff: -0.5112 - val_predictive_rate_parity: 0.0000e+00 - val_binary_accuracy_parity_diff: 0.0225 - val_accuracy_parity: 0.5112 - val_false_negative_rate_parity_diff: -1.0000 - val_false_positive_rate_parity_diff: 1.0000 - val_binary_negative_predictive_rate_parity_diff: 0.5112 - val_negative_predictive_rate_parity: 0.0000e+00 - val_binary_specificity_parity_diff: -1.0000 - lr: 1.0000e-05\n",
      "sc\n",
      "Epoch 3/20\n",
      "123/123 [==============================] - 78s 632ms/step - loss: 0.4872 - accuracy: 0.7584 - true_positives_21: 1357.0000 - true_negatives_14: 1613.0000 - false_positives_17: 439.0000 - false_negatives_18: 507.0000 - true_positive_rate: 0.7280 - true_negative_rate: 0.7861 - false_positive_rate: 0.2139 - false_negative_rate: 0.2720 - positive_predicted_value: 0.7556 - false_discovery_rate: 0.2444 - negative_predicted_value: 0.7608 - false_omission_rate: 0.2392 - binary_demographic_parity_diff: -324.0000 - demographic_parity: 1796.0000 - binary_equalized_odds_diff: 0.0581 - binary_proportional_parity_diff: -0.0827 - proportional_parity: 0.4586 - binary_predictive_rate_parity_diff: -0.0053 - predictive_rate_parity: 0.7556 - binary_accuracy_parity_diff: 0.5169 - accuracy_parity: 0.7584 - false_negative_rate_parity_diff: -0.0581 - false_positive_rate_parity_diff: 0.0581 - binary_negative_predictive_rate_parity_diff: 0.0053 - negative_predictive_rate_parity: 0.7556 - binary_specificity_parity_diff: -0.0581 - val_loss: 0.6942 - val_accuracy: 0.4888 - val_true_positives_21: 239.0000 - val_true_negatives_14: 0.0000e+00 - val_false_positives_17: 250.0000 - val_false_negatives_18: 0.0000e+00 - val_true_positive_rate: 1.0000 - val_true_negative_rate: 0.0000e+00 - val_false_positive_rate: 1.0000 - val_false_negative_rate: 0.0000e+00 - val_positive_predicted_value: 0.4888 - val_false_discovery_rate: 0.5112 - val_negative_predicted_value: 0.0000e+00 - val_false_omission_rate: 0.0000e+00 - val_binary_demographic_parity_diff: 489.0000 - val_demographic_parity: 489.0000 - val_binary_equalized_odds_diff: -1.0000 - val_binary_proportional_parity_diff: 1.0000 - val_proportional_parity: 1.0000 - val_binary_predictive_rate_parity_diff: 0.4888 - val_predictive_rate_parity: 0.4888 - val_binary_accuracy_parity_diff: -0.0225 - val_accuracy_parity: 0.4888 - val_false_negative_rate_parity_diff: 1.0000 - val_false_positive_rate_parity_diff: -1.0000 - val_binary_negative_predictive_rate_parity_diff: -0.4888 - val_negative_predictive_rate_parity: 0.4888 - val_binary_specificity_parity_diff: 1.0000 - lr: 1.0000e-05\n",
      "sc\n",
      "Epoch 4/20\n",
      "123/123 [==============================] - 78s 636ms/step - loss: 0.4235 - accuracy: 0.8090 - true_positives_21: 1478.0000 - true_negatives_14: 1690.0000 - false_positives_17: 362.0000 - false_negatives_18: 386.0000 - true_positive_rate: 0.7929 - true_negative_rate: 0.8236 - false_positive_rate: 0.1764 - false_negative_rate: 0.2071 - positive_predicted_value: 0.8033 - false_discovery_rate: 0.1967 - negative_predicted_value: 0.8141 - false_omission_rate: 0.1859 - binary_demographic_parity_diff: -236.0000 - demographic_parity: 1840.0000 - binary_equalized_odds_diff: 0.0307 - binary_proportional_parity_diff: -0.0603 - proportional_parity: 0.4699 - binary_predictive_rate_parity_diff: -0.0108 - predictive_rate_parity: 0.8033 - binary_accuracy_parity_diff: 0.6180 - accuracy_parity: 0.8090 - false_negative_rate_parity_diff: -0.0307 - false_positive_rate_parity_diff: 0.0307 - binary_negative_predictive_rate_parity_diff: 0.0108 - negative_predictive_rate_parity: 0.8033 - binary_specificity_parity_diff: -0.0307 - val_loss: 0.6904 - val_accuracy: 0.4724 - val_true_positives_21: 227.0000 - val_true_negatives_14: 4.0000 - val_false_positives_17: 258.0000 - val_false_negatives_18: 0.0000e+00 - val_true_positive_rate: 1.0000 - val_true_negative_rate: 0.0153 - val_false_positive_rate: 0.9847 - val_false_negative_rate: 0.0000e+00 - val_positive_predicted_value: 0.4680 - val_false_discovery_rate: 0.5320 - val_negative_predicted_value: 1.0000 - val_false_omission_rate: 0.0000e+00 - val_binary_demographic_parity_diff: 481.0000 - val_demographic_parity: 485.0000 - val_binary_equalized_odds_diff: -0.9847 - val_binary_proportional_parity_diff: 0.9836 - val_proportional_parity: 0.9918 - val_binary_predictive_rate_parity_diff: -0.5320 - val_predictive_rate_parity: 0.4680 - val_binary_accuracy_parity_diff: -0.0552 - val_accuracy_parity: 0.4724 - val_false_negative_rate_parity_diff: 0.9847 - val_false_positive_rate_parity_diff: -0.9847 - val_binary_negative_predictive_rate_parity_diff: 0.5320 - val_negative_predictive_rate_parity: 0.4680 - val_binary_specificity_parity_diff: 0.9847 - lr: 1.0000e-05\n",
      "sc\n",
      "Epoch 5/20\n",
      "123/123 [==============================] - 78s 634ms/step - loss: 0.3330 - accuracy: 0.8649 - true_positives_21: 1590.0000 - true_negatives_14: 1797.0000 - false_positives_17: 255.0000 - false_negatives_18: 274.0000 - true_positive_rate: 0.8530 - true_negative_rate: 0.8757 - false_positive_rate: 0.1243 - false_negative_rate: 0.1470 - positive_predicted_value: 0.8618 - false_discovery_rate: 0.1382 - negative_predicted_value: 0.8677 - false_omission_rate: 0.1323 - binary_demographic_parity_diff: -226.0000 - demographic_parity: 1845.0000 - binary_equalized_odds_diff: 0.0227 - binary_proportional_parity_diff: -0.0577 - proportional_parity: 0.4711 - binary_predictive_rate_parity_diff: -0.0059 - predictive_rate_parity: 0.8618 - binary_accuracy_parity_diff: 0.7298 - accuracy_parity: 0.8649 - false_negative_rate_parity_diff: -0.0227 - false_positive_rate_parity_diff: 0.0227 - binary_negative_predictive_rate_parity_diff: 0.0059 - negative_predictive_rate_parity: 0.8618 - binary_specificity_parity_diff: -0.0227 - val_loss: 0.6503 - val_accuracy: 0.6278 - val_true_positives_21: 212.0000 - val_true_negatives_14: 95.0000 - val_false_positives_17: 167.0000 - val_false_negatives_18: 15.0000 - val_true_positive_rate: 0.9339 - val_true_negative_rate: 0.3626 - val_false_positive_rate: 0.6374 - val_false_negative_rate: 0.0661 - val_positive_predicted_value: 0.5594 - val_false_discovery_rate: 0.4406 - val_negative_predicted_value: 0.8636 - val_false_omission_rate: 0.1364 - val_binary_demographic_parity_diff: 269.0000 - val_demographic_parity: 379.0000 - val_binary_equalized_odds_diff: -0.5713 - val_binary_proportional_parity_diff: 0.5501 - val_proportional_parity: 0.7751 - val_binary_predictive_rate_parity_diff: -0.3043 - val_predictive_rate_parity: 0.5594 - val_binary_accuracy_parity_diff: 0.2556 - val_accuracy_parity: 0.6278 - val_false_negative_rate_parity_diff: 0.5713 - val_false_positive_rate_parity_diff: -0.5713 - val_binary_negative_predictive_rate_parity_diff: 0.3043 - val_negative_predictive_rate_parity: 0.5594 - val_binary_specificity_parity_diff: 0.5713 - lr: 1.0000e-05\n",
      "sc\n",
      "Epoch 6/20\n",
      "123/123 [==============================] - 78s 633ms/step - loss: 0.2466 - accuracy: 0.9234 - true_positives_21: 1703.0000 - true_negatives_14: 1913.0000 - false_positives_17: 139.0000 - false_negatives_18: 161.0000 - true_positive_rate: 0.9136 - true_negative_rate: 0.9323 - false_positive_rate: 0.0677 - false_negative_rate: 0.0864 - positive_predicted_value: 0.9245 - false_discovery_rate: 0.0755 - negative_predicted_value: 0.9224 - false_omission_rate: 0.0776 - binary_demographic_parity_diff: -232.0000 - demographic_parity: 1842.0000 - binary_equalized_odds_diff: 0.0186 - binary_proportional_parity_diff: -0.0592 - proportional_parity: 0.4704 - binary_predictive_rate_parity_diff: 0.0022 - predictive_rate_parity: 0.9245 - binary_accuracy_parity_diff: 0.8468 - accuracy_parity: 0.9234 - false_negative_rate_parity_diff: -0.0186 - false_positive_rate_parity_diff: 0.0186 - binary_negative_predictive_rate_parity_diff: -0.0022 - negative_predictive_rate_parity: 0.9245 - binary_specificity_parity_diff: -0.0186 - val_loss: 0.5619 - val_accuracy: 0.6953 - val_true_positives_21: 179.0000 - val_true_negatives_14: 161.0000 - val_false_positives_17: 94.0000 - val_false_negatives_18: 55.0000 - val_true_positive_rate: 0.7650 - val_true_negative_rate: 0.6314 - val_false_positive_rate: 0.3686 - val_false_negative_rate: 0.2350 - val_positive_predicted_value: 0.6557 - val_false_discovery_rate: 0.3443 - val_negative_predicted_value: 0.7454 - val_false_omission_rate: 0.2546 - val_binary_demographic_parity_diff: 57.0000 - val_demographic_parity: 273.0000 - val_binary_equalized_odds_diff: -0.1336 - val_binary_proportional_parity_diff: 0.1166 - val_proportional_parity: 0.5583 - val_binary_predictive_rate_parity_diff: -0.0897 - val_predictive_rate_parity: 0.6557 - val_binary_accuracy_parity_diff: 0.3906 - val_accuracy_parity: 0.6953 - val_false_negative_rate_parity_diff: 0.1336 - val_false_positive_rate_parity_diff: -0.1336 - val_binary_negative_predictive_rate_parity_diff: 0.0897 - val_negative_predictive_rate_parity: 0.6557 - val_binary_specificity_parity_diff: 0.1336 - lr: 6.0653e-06\n",
      "sc\n",
      "Epoch 7/20\n",
      "123/123 [==============================] - ETA: 0s - loss: 0.2049 - accuracy: 0.9400 - true_positives_21: 1736.0000 - true_negatives_14: 1945.0000 - false_positives_17: 107.0000 - false_negatives_18: 128.0000 - true_positive_rate: 0.9313 - true_negative_rate: 0.9479 - false_positive_rate: 0.0521 - false_negative_rate: 0.0687 - positive_predicted_value: 0.9419 - false_discovery_rate: 0.0581 - negative_predicted_value: 0.9383 - false_omission_rate: 0.0617 - binary_demographic_parity_diff: -230.0000 - demographic_parity: 1843.0000 - binary_equalized_odds_diff: 0.0165 - binary_proportional_parity_diff: -0.0587 - proportional_parity: 0.4706 - binary_predictive_rate_parity_diff: 0.0037 - predictive_rate_parity: 0.9419 - binary_accuracy_parity_diff: 0.8800 - accuracy_parity: 0.9400 - false_negative_rate_parity_diff: -0.0165 - false_positive_rate_parity_diff: 0.0165 - binary_negative_predictive_rate_parity_diff: -0.0037 - negative_predictive_rate_parity: 0.9419 - binary_specificity_parity_diff: -0.0165"
     ]
    }
   ],
   "source": [
    "epochs = 20\n",
    "class_weight = mit.findClassWeights(train_batches)\n",
    "\n",
    "strategy = tf.distribute.MirroredStrategy()\n",
    "\n",
    "with strategy.scope():\n",
    "    model = m.build_model(False, (299,299), \"Xception\")\n",
    "    metric_list = m.metrics_list()\n",
    "\n",
    "model.compile(optimizer=tf.keras.optimizers.Adam(1e-5), \n",
    "                           loss=\"binary_crossentropy\", \n",
    "                           metrics=metric_list)\n",
    "\n",
    "\n",
    "utils.train_model(model, epochs, ds_train, train_batches, ds_val, val_batches, None, False)\n",
    "\n",
    "print(\"Make folder...\")\n",
    "dir_name = datetime.datetime.now().strftime(\"%Y%m%d_%H%M%S\") + \"_Xception_unweighted\"\n",
    "os.mkdir(dir_name)\n",
    "\n",
    "utils.saveModel(model, dir_name + \"/Xception_unweighted.h5\")"
   ]
  },
  {
   "cell_type": "code",
   "execution_count": null,
   "id": "180fb8a9",
   "metadata": {},
   "outputs": [],
   "source": [
    "test_predict, test_labels, dir_name = ev.testModel(model, ds_test, test_batches, dir_name)\n",
    "ev.testModelWithThresholdChange(model, ds_val, val_batches, test_predict, test_labels, dir_name)"
   ]
  },
  {
   "cell_type": "code",
   "execution_count": null,
   "id": "d3487f03",
   "metadata": {},
   "outputs": [],
   "source": []
  }
 ],
 "metadata": {
  "kernelspec": {
   "display_name": "Python 3 (ipykernel)",
   "language": "python",
   "name": "python3"
  },
  "language_info": {
   "codemirror_mode": {
    "name": "ipython",
    "version": 3
   },
   "file_extension": ".py",
   "mimetype": "text/x-python",
   "name": "python",
   "nbconvert_exporter": "python",
   "pygments_lexer": "ipython3",
   "version": "3.8.10"
  }
 },
 "nbformat": 4,
 "nbformat_minor": 5
}

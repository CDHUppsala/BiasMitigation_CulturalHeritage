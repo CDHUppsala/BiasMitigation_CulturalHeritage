{
 "cells": [
  {
   "cell_type": "markdown",
   "id": "c19182a3",
   "metadata": {},
   "source": [
    "# Testing Xception"
   ]
  },
  {
   "cell_type": "code",
   "execution_count": null,
   "id": "bcb8e710",
   "metadata": {},
   "outputs": [],
   "source": [
    "import tensorflow as tf\n",
    "import data.imageReading as ir\n",
    "from fairness import fairnessMetrics as fm\n",
    "from model import model as m\n",
    "from model import utils as utils\n",
    "from model import biasMitigation as mit\n",
    "from model import evaluation as ev\n",
    "from tuning import callbacks as cb\n",
    "import datetime\n",
    "import os\n",
    "import numpy as np"
   ]
  },
  {
   "cell_type": "code",
   "execution_count": null,
   "id": "2e478a22",
   "metadata": {},
   "outputs": [],
   "source": [
    "image_size = (299,299)\n",
    "batch_size = 128\n",
    "# Create new datasets\n",
    "#(ds_train, train_batches, ds_val, val_batches, ds_test, test_batches, count_classes) = ir.readData(\"/mimer/NOBACKUP/groups/snic2022-22-1091/museumFaces\", image_size, batch_size, preprocess_input)\n",
    "#(ffds_train, fftrain_batches, ffds_val, ffval_batches, ffds_test, fftest_batches, ffcount_classes) = ir.readData(\"/mimer/NOBACKUP/groups/snic2022-22-1091/FairFace\", image_size, batch_size, preprocess_input)\n",
    "\n",
    "# Load datasets from current _split folders\n",
    "(ds_train, train_batches, ds_val, val_batches, ds_test, test_batches, count_classes) = ir.readData(\"/mimer/NOBACKUP/groups/snic2022-22-1091/museumFaces_split\", image_size, batch_size, None, False, False)\n",
    "(ffds_train, fftrain_batches, ffds_val, ffval_batches, ffds_test, fftest_batches, ffcount_classes) = ir.readData(\"/mimer/NOBACKUP/groups/snic2022-22-1091/FairFace_split\", image_size, batch_size, None, False, False)\n"
   ]
  },
  {
   "cell_type": "markdown",
   "id": "bdb1ad24",
   "metadata": {},
   "source": [
    "## Find learning rate"
   ]
  },
  {
   "cell_type": "code",
   "execution_count": null,
   "id": "dff87450",
   "metadata": {},
   "outputs": [],
   "source": [
    "class_weight = mit.findClassWeights(train_batches)\n",
    "\n",
    "strategy = tf.distribute.MirroredStrategy()\n",
    "\n",
    "with strategy.scope():\n",
    "    model = m.build_model(False, (299,299), \"Xception\")\n",
    "    metric_list = m.metrics_list()\n",
    "\n",
    "model.compile(optimizer=tf.keras.optimizers.Adam(), \n",
    "                           loss=\"binary_crossentropy\", \n",
    "                           metrics=\"accuracy\")\n"
   ]
  },
  {
   "cell_type": "code",
   "execution_count": null,
   "id": "4323828f",
   "metadata": {},
   "outputs": [],
   "source": [
    "epochs = 200\n",
    "train_input = []\n",
    "train_output = []\n",
    "nr_batches = 10\n",
    "\n",
    "model.fit(ds_train, steps_per_epoch=nr_batches, callbacks=[cb.LerningRateCallback(100, nr_batches)], epochs=epochs, verbose=2)"
   ]
  },
  {
   "cell_type": "markdown",
   "id": "63876238",
   "metadata": {},
   "source": [
    "# FairFace"
   ]
  },
  {
   "cell_type": "markdown",
   "id": "7a7de377",
   "metadata": {},
   "source": [
    "## Test Xception FairFace (unweighted) "
   ]
  },
  {
   "cell_type": "code",
   "execution_count": null,
   "id": "58431690",
   "metadata": {
    "scrolled": false
   },
   "outputs": [],
   "source": [
    "epochs = 20\n",
    "class_weight = mit.findClassWeights(fftrain_batches)\n",
    "\n",
    "strategy = tf.distribute.MirroredStrategy()\n",
    "\n",
    "with strategy.scope():\n",
    "    model = m.build_model(False, (299,299), \"Xception\")\n",
    "    metric_list = m.metrics_list()\n",
    "    lr_schedule = tf.keras.optimizers.schedules.ExponentialDecay(\n",
    "        1e-4,\n",
    "        decay_steps=100000,\n",
    "        decay_rate=0.96,\n",
    "    )\n",
    "\n",
    "\n",
    "model.compile(optimizer=tf.keras.optimizers.Adam(lr_schedule), \n",
    "                           loss=\"binary_crossentropy\", \n",
    "                           metrics=metric_list)\n",
    "\n",
    "\n",
    "utils.train_model(model, epochs, ffds_train, fftrain_batches, ffds_val, ffval_batches, None, False)\n",
    "\n",
    "print(\"Make folder...\")\n",
    "dir_name = datetime.datetime.now().strftime(\"%Y%m%d_%H%M%S\") + \"_Xception_FairFace\"\n",
    "os.mkdir(dir_name)\n",
    "\n",
    "utils.saveModel(model, dir_name + \"/Xception_FairFace.h5\")"
   ]
  },
  {
   "cell_type": "code",
   "execution_count": null,
   "id": "b9797054",
   "metadata": {
    "scrolled": true
   },
   "outputs": [],
   "source": [
    "test_predict, test_labels, dir_name = ev.testModel(model, ffds_test, fftest_batches, dir_name)\n",
    "ev.testModelWithThresholdChange(model, ffds_val, ffval_batches, test_predict, test_labels, dir_name)"
   ]
  },
  {
   "cell_type": "markdown",
   "id": "87891f6c",
   "metadata": {},
   "source": [
    "## Test Xception FairFace (weighted)"
   ]
  },
  {
   "cell_type": "code",
   "execution_count": null,
   "id": "5f25e0ed",
   "metadata": {},
   "outputs": [],
   "source": [
    "epochs = 20\n",
    "class_weight = mit.findClassWeights(fftrain_batches)\n",
    "\n",
    "strategy = tf.distribute.MirroredStrategy()\n",
    "\n",
    "with strategy.scope():\n",
    "    model = m.build_model(False, (299,299), \"Xception\")\n",
    "    metric_list = m.metrics_list()\n",
    "    lr_schedule = tf.keras.optimizers.schedules.ExponentialDecay(\n",
    "        1e-4,\n",
    "        decay_steps=100000,\n",
    "        decay_rate=0.96,\n",
    "    )\n",
    "\n",
    "\n",
    "model.compile(optimizer=tf.keras.optimizers.Adam(lr_schedule), \n",
    "                           loss=\"binary_crossentropy\", \n",
    "                           metrics=metric_list)\n",
    "\n",
    "\n",
    "utils.train_model(model, epochs, ffds_train, fftrain_batches, ffds_val, ffval_batches, class_weight)\n",
    "\n",
    "print(\"Make folder...\")\n",
    "dir_name = datetime.datetime.now().strftime(\"%Y%m%d_%H%M%S\") + \"_Xception_FairFace_re\"\n",
    "os.mkdir(dir_name)\n",
    "\n",
    "utils.saveModel(model, dir_name + \"/Xception_FairFace_re.h5\")"
   ]
  },
  {
   "cell_type": "code",
   "execution_count": null,
   "id": "1efcf4e1",
   "metadata": {},
   "outputs": [],
   "source": [
    "test_predict, test_labels, dir_name = ev.testModel(model, ffds_test, fftest_batches, dir_name)\n",
    "ev.testModelWithThresholdChange(model, ffds_val, ffval_batches, test_predict, test_labels, dir_name)"
   ]
  },
  {
   "cell_type": "markdown",
   "id": "6a365549",
   "metadata": {},
   "source": [
    "## Test Xception FairFace Augmented (unweighted)"
   ]
  },
  {
   "cell_type": "code",
   "execution_count": null,
   "id": "15e4e4b5",
   "metadata": {},
   "outputs": [],
   "source": [
    "epochs = 20\n",
    "class_weight = mit.findClassWeights(fftrain_batches)\n",
    "\n",
    "strategy = tf.distribute.MirroredStrategy()\n",
    "\n",
    "with strategy.scope():\n",
    "    model = m.build_model(True, (299,299), \"Xception\")\n",
    "    metric_list = m.metrics_list()\n",
    "    lr_schedule = tf.keras.optimizers.schedules.ExponentialDecay(\n",
    "        1e-4,\n",
    "        decay_steps=100000,\n",
    "        decay_rate=0.96,\n",
    "    )\n",
    "\n",
    "\n",
    "model.compile(optimizer=tf.keras.optimizers.Adam(lr_schedule), \n",
    "                           loss=\"binary_crossentropy\", \n",
    "                           metrics=metric_list)\n",
    "\n",
    "\n",
    "utils.train_model(model, epochs, ffds_train, fftrain_batches, ffds_val, ffval_batches, None, False)\n",
    "\n",
    "print(\"Make folder...\")\n",
    "dir_name = datetime.datetime.now().strftime(\"%Y%m%d_%H%M%S\") + \"_Xception_FairFace_aug\"\n",
    "os.mkdir(dir_name)\n",
    "\n",
    "utils.saveModel(model, dir_name + \"/Xception_FairFace_aug.h5\")"
   ]
  },
  {
   "cell_type": "code",
   "execution_count": null,
   "id": "8511f77a",
   "metadata": {},
   "outputs": [],
   "source": [
    "test_predict, test_labels, dir_name = ev.testModel(model, ffds_test, fftest_batches, dir_name)\n",
    "ev.testModelWithThresholdChange(model, ffds_val, ffval_batches, test_predict, test_labels, dir_name)"
   ]
  },
  {
   "cell_type": "markdown",
   "id": "e5601a4b",
   "metadata": {},
   "source": [
    "# Transfer Learning"
   ]
  },
  {
   "cell_type": "markdown",
   "id": "74551f9c",
   "metadata": {},
   "source": [
    "## Transfer learning without augmentation and reweighting"
   ]
  },
  {
   "cell_type": "code",
   "execution_count": null,
   "id": "31fb1476",
   "metadata": {},
   "outputs": [],
   "source": [
    "epochs = 20\n",
    "class_weight = mit.findClassWeights(train_batches)\n",
    "\n",
    "strategy = tf.distribute.MirroredStrategy()\n",
    "# Choose correct folder name\n",
    "dir_name = \"Test\"\n",
    "\n",
    "with strategy.scope():\n",
    "    # Choose the correct FairFace model\n",
    "    model = utils.loadModel(dir_name + \"/Xception_FairFace.h5\", m.metrics_dict())\n",
    "    metric_list = m.metrics_list()\n",
    "    lr_schedule = tf.keras.optimizers.schedules.ExponentialDecay(\n",
    "        1e-4,\n",
    "        decay_steps=100000,\n",
    "        decay_rate=0.96,\n",
    "    )\n",
    "\n",
    "# Total number of layers: 137\n",
    "utils.freezeCertainLayers(model, 134)    \n",
    "    \n",
    "model.compile(optimizer=tf.keras.optimizers.Adam(learning_rate=lr_schedule), \n",
    "                           loss=\"binary_crossentropy\", \n",
    "                           metrics=metric_list)\n",
    "\n",
    "utils.train_model(model, epochs, ds_train, train_batches, ds_val, val_batches, None, False)\n",
    "\n",
    "print(\"Make folder...\")\n",
    "dir_name_transfer = datetime.datetime.now().strftime(\"%Y%m%d_%H%M%S\") + \"_Xception_transfer\"\n",
    "os.mkdir(dir_name_transfer)\n",
    "\n",
    "print(\"Name directory: \" + dir_name)\n",
    "utils.saveModel(model, dir_name_transfer + \"/Xception_transfer.h5\")"
   ]
  },
  {
   "cell_type": "code",
   "execution_count": null,
   "id": "88f49a22",
   "metadata": {},
   "outputs": [],
   "source": [
    "test_predict, test_labels, dir_name = ev.testModel(model, ds_test, test_batches, dir_name)\n",
    "ev.testModelWithThresholdChange(model, ds_val, val_batches, test_predict, test_labels, dir_name)"
   ]
  },
  {
   "cell_type": "code",
   "execution_count": null,
   "id": "98ae3faf",
   "metadata": {},
   "outputs": [],
   "source": [
    "strategy = tf.distribute.MirroredStrategy()\n",
    "# Choose correct folder name\n",
    "dir_name = \"Test\"\n",
    "\n",
    "with strategy.scope():\n",
    "    # Choose the correct FairFace model\n",
    "    model = utils.loadModel(dir_name + \"/Xception_FairFace.h5\", m.metrics_dict())\n",
    "    metric_list = m.metrics_list()\n",
    "    lr_schedule = tf.keras.optimizers.schedules.ExponentialDecay(\n",
    "        5e-4,\n",
    "        decay_steps=100,\n",
    "        decay_rate=0.96,\n",
    "        staircase=True\n",
    "    )\n",
    "\n",
    "history = ev.kfoldCrossValidation('/mimer/NOBACKUP/groups/snic2022-22-1091/museumFaces/Female/*.*', \n",
    "                      '/mimer/NOBACKUP/groups/snic2022-22-1091/museumFaces/Male/*.*',\n",
    "                      model, metric_list, lr_schedule, (299,299), None, 5, 20)"
   ]
  },
  {
   "cell_type": "code",
   "execution_count": null,
   "id": "4aa97141",
   "metadata": {},
   "outputs": [],
   "source": [
    "print(\"Make folder...\")\n",
    "dir_name = datetime.datetime.now().strftime(\"%Y%m%d_%H%M%S\") + \"_kFoldCrossValidation_Xception\"\n",
    "os.mkdir(dir_name)\n",
    "\n",
    "ev.evaluateCrossValidation(dir_name, history)"
   ]
  },
  {
   "cell_type": "markdown",
   "id": "23f71492",
   "metadata": {},
   "source": [
    "## Transfer learning with augmentation and without reweighting"
   ]
  },
  {
   "cell_type": "code",
   "execution_count": null,
   "id": "5ae79919",
   "metadata": {},
   "outputs": [],
   "source": [
    "epochs = 20\n",
    "class_weight = mit.findClassWeights(train_batches)\n",
    "\n",
    "strategy = tf.distribute.MirroredStrategy()\n",
    "# Choose correct folder name\n",
    "dir_name = \"Test\"\n",
    "\n",
    "with strategy.scope():\n",
    "    # Choose the correct FairFace model\n",
    "    model = utils.loadModel(dir_name + \"/Xception_FairFace_aug.h5\", m.metrics_dict())\n",
    "    metric_list = m.metrics_list()\n",
    "    lr_schedule = tf.keras.optimizers.schedules.ExponentialDecay(\n",
    "        1e-4,\n",
    "        decay_steps=100000,\n",
    "        decay_rate=0.96,\n",
    "    )\n",
    "\n",
    "# Total number of layers: 137 \n",
    "utils.freezeCertainLayers(model, 134)  \n",
    "    \n",
    "model.compile(optimizer=tf.keras.optimizers.Adam(learning_rate=lr_schedule), \n",
    "                           loss=\"binary_crossentropy\", \n",
    "                           metrics=metric_list)\n",
    "\n",
    "utils.train_model(model, epochs, ds_train, train_batches, ds_val, val_batches, None, False)\n",
    "\n",
    "print(\"Make folder...\")\n",
    "dir_name_transfer = datetime.datetime.now().strftime(\"%Y%m%d_%H%M%S\") + \"_Xception_transfer_aug\"\n",
    "os.mkdir(dir_name_transfer)\n",
    "\n",
    "print(\"Name directory: \" + dir_name)\n",
    "utils.saveModel(model, dir_name_transfer + \"/Xception_transfer_aug.h5\")"
   ]
  },
  {
   "cell_type": "code",
   "execution_count": null,
   "id": "17690c5a",
   "metadata": {},
   "outputs": [],
   "source": [
    "test_predict, test_labels, dir_name = ev.testModel(model, ds_test, test_batches, dir_name)\n",
    "ev.testModelWithThresholdChange(model, ds_val, val_batches, test_predict, test_labels, dir_name)"
   ]
  },
  {
   "cell_type": "code",
   "execution_count": null,
   "id": "7b9bbe11",
   "metadata": {},
   "outputs": [],
   "source": [
    "strategy = tf.distribute.MirroredStrategy()\n",
    "# Choose correct folder name\n",
    "dir_name = \"Test\"\n",
    "\n",
    "with strategy.scope():\n",
    "    # Choose the correct FairFace model\n",
    "    model = utils.loadModel(dir_name + \"/Xception_FairFace_aug.h5\", m.metrics_dict())\n",
    "    metric_list = m.metrics_list()\n",
    "    lr_schedule = tf.keras.optimizers.schedules.ExponentialDecay(\n",
    "        5e-4,\n",
    "        decay_steps=100,\n",
    "        decay_rate=0.96,\n",
    "        staircase=True\n",
    "    )\n",
    "\n",
    "history = ev.kfoldCrossValidation('/mimer/NOBACKUP/groups/snic2022-22-1091/museumFaces/Female/*.*', \n",
    "                      '/mimer/NOBACKUP/groups/snic2022-22-1091/museumFaces/Male/*.*',\n",
    "                      model, metric_list, lr_schedule, (299,299), None, 5, 20)"
   ]
  },
  {
   "cell_type": "code",
   "execution_count": null,
   "id": "afbceb3f",
   "metadata": {},
   "outputs": [],
   "source": [
    "print(\"Make folder...\")\n",
    "dir_name = datetime.datetime.now().strftime(\"%Y%m%d_%H%M%S\") + \"_kFoldCrossValidation_Xception_aug\"\n",
    "os.mkdir(dir_name)\n",
    "\n",
    "ev.evaluateCrossValidation(dir_name, history)"
   ]
  },
  {
   "cell_type": "markdown",
   "id": "5de03d4d",
   "metadata": {},
   "source": [
    "## Transfer learning without augmentation and with reweighting"
   ]
  },
  {
   "cell_type": "code",
   "execution_count": null,
   "id": "5ee345c9",
   "metadata": {},
   "outputs": [],
   "source": [
    "epochs = 20\n",
    "class_weight = mit.findClassWeights(train_batches)\n",
    "\n",
    "strategy = tf.distribute.MirroredStrategy()\n",
    "# Choose correct folder name\n",
    "dir_name = \"Test\"\n",
    "\n",
    "with strategy.scope():\n",
    "    # Choose the correct FairFace model\n",
    "    model = utils.loadModel(dir_name + \"/Xception_FairFace_re.h5\", m.metrics_dict())\n",
    "    metric_list = m.metrics_list()\n",
    "    lr_schedule = tf.keras.optimizers.schedules.ExponentialDecay(\n",
    "        1e-4,\n",
    "        decay_steps=100000,\n",
    "        decay_rate=0.96,\n",
    "    )\n",
    "\n",
    "# Total number of layers: 137    \n",
    "utils.freezeCertainLayers(model, 134)   \n",
    "    \n",
    "model.compile(optimizer=tf.keras.optimizers.Adam(learning_rate=lr_schedule), \n",
    "                           loss=\"binary_crossentropy\", \n",
    "                           metrics=metric_list)\n",
    "\n",
    "utils.train_model(model, epochs, ds_train, train_batches, ds_val, val_batches, class_weight)\n",
    "\n",
    "print(\"Make folder...\")\n",
    "dir_name_transfer = datetime.datetime.now().strftime(\"%Y%m%d_%H%M%S\") + \"_Xception_transfer_re\"\n",
    "os.mkdir(dir_name_transfer)\n",
    "\n",
    "print(\"Name directory: \" + dir_name)\n",
    "utils.saveModel(model, dir_name_transfer + \"/Xception_transfer_re.h5\")"
   ]
  },
  {
   "cell_type": "code",
   "execution_count": null,
   "id": "e1026b09",
   "metadata": {},
   "outputs": [],
   "source": [
    "test_predict, test_labels, dir_name = ev.testModel(model, ds_test, test_batches, dir_name)\n",
    "ev.testModelWithThresholdChange(model, ds_val, val_batches, test_predict, test_labels, dir_name)"
   ]
  },
  {
   "cell_type": "code",
   "execution_count": null,
   "id": "4513341c",
   "metadata": {},
   "outputs": [],
   "source": [
    "strategy = tf.distribute.MirroredStrategy()\n",
    "# Choose correct folder name\n",
    "dir_name = \"Test\"\n",
    "\n",
    "with strategy.scope():\n",
    "    # Choose the correct FairFace model\n",
    "    model = utils.loadModel(dir_name + \"/Xception_FairFace_re.h5\", m.metrics_dict())\n",
    "    metric_list = m.metrics_list()\n",
    "    lr_schedule = tf.keras.optimizers.schedules.ExponentialDecay(\n",
    "        5e-4,\n",
    "        decay_steps=100,\n",
    "        decay_rate=0.96,\n",
    "        staircase=True\n",
    "    )\n",
    "\n",
    "history = ev.kfoldCrossValidation('/mimer/NOBACKUP/groups/snic2022-22-1091/museumFaces/Female/*.*', \n",
    "                      '/mimer/NOBACKUP/groups/snic2022-22-1091/museumFaces/Male/*.*',\n",
    "                      model, metric_list, lr_schedule, (299,299), class_weight, 5, 20)"
   ]
  },
  {
   "cell_type": "code",
   "execution_count": null,
   "id": "c531c352",
   "metadata": {},
   "outputs": [],
   "source": [
    "print(\"Make folder...\")\n",
    "dir_name = datetime.datetime.now().strftime(\"%Y%m%d_%H%M%S\") + \"_kFoldCrossValidation_Xception_re\"\n",
    "os.mkdir(dir_name)\n",
    "\n",
    "ev.evaluateCrossValidation(dir_name, history)"
   ]
  },
  {
   "cell_type": "markdown",
   "id": "629f7ade",
   "metadata": {},
   "source": [
    "## Transfer learning with augmentation and reweighting"
   ]
  },
  {
   "cell_type": "code",
   "execution_count": null,
   "id": "60137cd5",
   "metadata": {},
   "outputs": [],
   "source": [
    "epochs = 20\n",
    "class_weight = mit.findClassWeights(train_batches)\n",
    "\n",
    "strategy = tf.distribute.MirroredStrategy()\n",
    "# Choose correct folder name\n",
    "dir_name = \"Test\"\n",
    "\n",
    "with strategy.scope():\n",
    "    # Choose the correct FairFace model\n",
    "    model = utils.loadModel(dir_name + \"/Xception_FairFace_aug.h5\", m.metrics_dict())\n",
    "    metric_list = m.metrics_list()\n",
    "    lr_schedule = tf.keras.optimizers.schedules.ExponentialDecay(\n",
    "        1e-4,\n",
    "        decay_steps=100000,\n",
    "        decay_rate=0.96,\n",
    "    )\n",
    "\n",
    "# Total number of layers: 137    \n",
    "utils.freezeCertainLayers(model, 134)  \n",
    "    \n",
    "model.compile(optimizer=tf.keras.optimizers.Adam(learning_rate=lr_schedule), \n",
    "                           loss=\"binary_crossentropy\", \n",
    "                           metrics=metric_list)\n",
    "\n",
    "utils.train_model(model, epochs, ds_train, train_batches, ds_val, val_batches, class_weight)\n",
    "\n",
    "print(\"Make folder...\")\n",
    "dir_name_transfer = datetime.datetime.now().strftime(\"%Y%m%d_%H%M%S\") + \"_Xception_transfer_re_aug\"\n",
    "os.mkdir(dir_name_transfer)\n",
    "\n",
    "print(\"Name directory: \" + dir_name)\n",
    "utils.saveModel(model, dir_name_transfer + \"/Xception_transfer_re_aug.h5\")"
   ]
  },
  {
   "cell_type": "code",
   "execution_count": null,
   "id": "9a2b26b7",
   "metadata": {},
   "outputs": [],
   "source": [
    "test_predict, test_labels, dir_name = ev.testModel(model, ds_test, test_batches, dir_name)\n",
    "ev.testModelWithThresholdChange(model, ds_val, val_batches, test_predict, test_labels, dir_name)"
   ]
  },
  {
   "cell_type": "code",
   "execution_count": null,
   "id": "242875e8",
   "metadata": {},
   "outputs": [],
   "source": [
    "strategy = tf.distribute.MirroredStrategy()\n",
    "# Choose correct folder name\n",
    "dir_name = \"Test\"\n",
    "\n",
    "with strategy.scope():\n",
    "    # Choose the correct FairFace model\n",
    "    model = utils.loadModel(dir_name + \"/Xception_FairFace_aug.h5\", m.metrics_dict())\n",
    "    metric_list = m.metrics_list()\n",
    "    lr_schedule = tf.keras.optimizers.schedules.ExponentialDecay(\n",
    "        5e-4,\n",
    "        decay_steps=100,\n",
    "        decay_rate=0.96,\n",
    "        staircase=True\n",
    "    )\n",
    "\n",
    "history = ev.kfoldCrossValidation('/mimer/NOBACKUP/groups/snic2022-22-1091/museumFaces/Female/*.*', \n",
    "                      '/mimer/NOBACKUP/groups/snic2022-22-1091/museumFaces/Male/*.*',\n",
    "                      model, metric_list, lr_schedule, (299,299), class_weight, 5, 20)"
   ]
  },
  {
   "cell_type": "code",
   "execution_count": null,
   "id": "b80b475e",
   "metadata": {},
   "outputs": [],
   "source": [
    "print(\"Make folder...\")\n",
    "dir_name = datetime.datetime.now().strftime(\"%Y%m%d_%H%M%S\") + \"_kFoldCrossValidation_Xception_re_aug\"\n",
    "os.mkdir(dir_name)\n",
    "\n",
    "ev.evaluateCrossValidation(dir_name, history)"
   ]
  }
 ],
 "metadata": {
  "kernelspec": {
   "display_name": "Python 3 (ipykernel)",
   "language": "python",
   "name": "python3"
  },
  "language_info": {
   "codemirror_mode": {
    "name": "ipython",
    "version": 3
   },
   "file_extension": ".py",
   "mimetype": "text/x-python",
   "name": "python",
   "nbconvert_exporter": "python",
   "pygments_lexer": "ipython3",
   "version": "3.9.6"
  }
 },
 "nbformat": 4,
 "nbformat_minor": 5
}

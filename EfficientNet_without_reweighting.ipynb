{
 "cells": [
  {
   "cell_type": "code",
   "execution_count": null,
   "id": "76f0f524",
   "metadata": {},
   "outputs": [],
   "source": [
    "import tensorflow as tf\n",
    "import data.imageReading as ir\n",
    "from fairness import fairnessMetrics as fm\n",
    "from model import model as m\n",
    "from model import utils as utils\n",
    "from model import biasMitigation as mit\n",
    "from model import evaluation as ev\n",
    "import datetime\n",
    "import os"
   ]
  },
  {
   "cell_type": "code",
   "execution_count": null,
   "id": "2549a9e8",
   "metadata": {},
   "outputs": [],
   "source": [
    "preprocess_input = tf.keras.applications.vgg16.preprocess_input\n",
    "\n",
    "image_size = (224,224)\n",
    "batch_size = 8\n",
    "epochs = 60\n",
    "(ds_train, train_batches, ds_val, val_batches, ds_test, test_batches, count_classes) = ir.readData(\"/mimer/NOBACKUP/groups/snic2022-22-1091/museumFaces\", image_size, batch_size, preprocess_input)\n",
    "\n",
    "class_weight = mit.findClassWeights(train_batches)\n",
    "\n",
    "strategy = tf.distribute.MirroredStrategy()\n",
    "\n",
    "with strategy.scope():\n",
    "    base_model = m.build_model()\n",
    "    metric_list = m.metrics_list()\n",
    "\n",
    "base_model.compile(optimizer=tf.keras.optimizers.Adam(learning_rate=1e-3), \n",
    "                           loss=\"binary_crossentropy\", \n",
    "                           metrics=metric_list)\n",
    "\n",
    "options = tf.data.Options()\n",
    "options.experimental_distribute.auto_shard_policy = tf.data.experimental.AutoShardPolicy.OFF\n",
    "ds_train = ds_train.with_options(options)\n",
    "ds_val = ds_val.with_options(options)\n",
    "ds_test = ds_test.with_options(options)"
   ]
  },
  {
   "cell_type": "code",
   "execution_count": null,
   "id": "56ededf1",
   "metadata": {},
   "outputs": [],
   "source": [
    "utils.train_model(base_model, epochs, ds_train, train_batches, ds_val, None, False)"
   ]
  },
  {
   "cell_type": "code",
   "execution_count": null,
   "id": "ddb6bea6",
   "metadata": {},
   "outputs": [],
   "source": [
    "print(\"Make folder...\")\n",
    "dir_name = datetime.datetime.now().strftime(\"%Y%m%d_%H%M%S\") + \"_Test\"\n",
    "os.mkdir(dir_name)\n",
    "\n",
    "utils.saveModel(base_model, dir_name + \"/base_model.h5\")"
   ]
  },
  {
   "cell_type": "code",
   "execution_count": null,
   "id": "2f2558a8",
   "metadata": {},
   "outputs": [],
   "source": [
    "test_predict, test_labels, dir_name = ev.testModel(base_model, test_batches, dir_name)\n",
    "ev.testModelWithThresholdChange(base_model, val_batches, test_predict, test_labels, dir_name)"
   ]
  }
 ],
 "metadata": {
  "kernelspec": {
   "display_name": "Python 3 (ipykernel)",
   "language": "python",
   "name": "python3"
  },
  "language_info": {
   "codemirror_mode": {
    "name": "ipython",
    "version": 3
   },
   "file_extension": ".py",
   "mimetype": "text/x-python",
   "name": "python",
   "nbconvert_exporter": "python",
   "pygments_lexer": "ipython3",
   "version": "3.10.6"
  }
 },
 "nbformat": 4,
 "nbformat_minor": 5
}
